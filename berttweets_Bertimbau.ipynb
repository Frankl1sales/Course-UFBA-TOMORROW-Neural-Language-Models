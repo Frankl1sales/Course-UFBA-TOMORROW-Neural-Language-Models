{
  "nbformat": 4,
  "nbformat_minor": 0,
  "metadata": {
    "colab": {
      "provenance": [],
      "include_colab_link": true
    },
    "kernelspec": {
      "name": "python3",
      "display_name": "Python 3"
    },
    "language_info": {
      "name": "python"
    }
  },
  "cells": [
    {
      "cell_type": "markdown",
      "metadata": {
        "id": "view-in-github",
        "colab_type": "text"
      },
      "source": [
        "<a href=\"https://colab.research.google.com/github/Frankl1sales/Course-UFBA-TOMORROW-Neural-Language-Models/blob/main/berttweets_Bertimbau.ipynb\" target=\"_parent\"><img src=\"https://colab.research.google.com/assets/colab-badge.svg\" alt=\"Open In Colab\"/></a>"
      ]
    },
    {
      "cell_type": "markdown",
      "source": [
        "# Verificando a representação de emojis"
      ],
      "metadata": {
        "id": "bjnHI-WWIb3g"
      }
    },
    {
      "cell_type": "code",
      "source": [
        "# pacote que transforma emojis em texto e vice-versa\n",
        "!pip install emoji"
      ],
      "metadata": {
        "colab": {
          "base_uri": "https://localhost:8080/"
        },
        "id": "uIfC7DMEWRGY",
        "outputId": "2390f667-6472-48be-e4b8-903a1cdd7f0e"
      },
      "execution_count": 4,
      "outputs": [
        {
          "output_type": "stream",
          "name": "stdout",
          "text": [
            "Requirement already satisfied: emoji in /usr/local/lib/python3.10/dist-packages (2.13.2)\n"
          ]
        }
      ]
    },
    {
      "cell_type": "markdown",
      "source": [
        "**Carregando** o modelo de Twitter e seus tokenizadores"
      ],
      "metadata": {
        "id": "Q7FMWWMmTnzl"
      }
    },
    {
      "cell_type": "code",
      "source": [
        "from emoji import demojize, emojize\n",
        "import torch\n",
        "from transformers import AutoModel, AutoTokenizer, BertConfig"
      ],
      "metadata": {
        "id": "Fq6N4xxETVnK"
      },
      "execution_count": 5,
      "outputs": []
    },
    {
      "cell_type": "code",
      "source": [
        "model_name_tweets = 'melll-uff/bertweetbr'\n",
        "config_tweets = BertConfig.from_pretrained(model_name_tweets, output_hidden_states=True)\n",
        "\n",
        "model_tweets = AutoModel.from_pretrained(model_name_tweets, config=config_tweets)\n",
        "tokenizer_tweets = AutoTokenizer.from_pretrained(model_name_tweets, normalization=True)"
      ],
      "metadata": {
        "colab": {
          "base_uri": "https://localhost:8080/"
        },
        "id": "WIeHagqkUQop",
        "outputId": "3db22c1d-5e8d-4960-8a6f-f12ced9c9dce"
      },
      "execution_count": 6,
      "outputs": [
        {
          "output_type": "stream",
          "name": "stderr",
          "text": [
            "You are using a model of type roberta to instantiate a model of type bert. This is not supported for all configurations of models and can yield errors.\n",
            "Some weights of BertModel were not initialized from the model checkpoint at melll-uff/bertweetbr and are newly initialized: ['embeddings.LayerNorm.bias', 'embeddings.LayerNorm.weight', 'embeddings.position_embeddings.weight', 'embeddings.token_type_embeddings.weight', 'embeddings.word_embeddings.weight', 'encoder.layer.0.attention.output.LayerNorm.bias', 'encoder.layer.0.attention.output.LayerNorm.weight', 'encoder.layer.0.attention.output.dense.bias', 'encoder.layer.0.attention.output.dense.weight', 'encoder.layer.0.attention.self.key.bias', 'encoder.layer.0.attention.self.key.weight', 'encoder.layer.0.attention.self.query.bias', 'encoder.layer.0.attention.self.query.weight', 'encoder.layer.0.attention.self.value.bias', 'encoder.layer.0.attention.self.value.weight', 'encoder.layer.0.intermediate.dense.bias', 'encoder.layer.0.intermediate.dense.weight', 'encoder.layer.0.output.LayerNorm.bias', 'encoder.layer.0.output.LayerNorm.weight', 'encoder.layer.0.output.dense.bias', 'encoder.layer.0.output.dense.weight', 'encoder.layer.1.attention.output.LayerNorm.bias', 'encoder.layer.1.attention.output.LayerNorm.weight', 'encoder.layer.1.attention.output.dense.bias', 'encoder.layer.1.attention.output.dense.weight', 'encoder.layer.1.attention.self.key.bias', 'encoder.layer.1.attention.self.key.weight', 'encoder.layer.1.attention.self.query.bias', 'encoder.layer.1.attention.self.query.weight', 'encoder.layer.1.attention.self.value.bias', 'encoder.layer.1.attention.self.value.weight', 'encoder.layer.1.intermediate.dense.bias', 'encoder.layer.1.intermediate.dense.weight', 'encoder.layer.1.output.LayerNorm.bias', 'encoder.layer.1.output.LayerNorm.weight', 'encoder.layer.1.output.dense.bias', 'encoder.layer.1.output.dense.weight', 'encoder.layer.10.attention.output.LayerNorm.bias', 'encoder.layer.10.attention.output.LayerNorm.weight', 'encoder.layer.10.attention.output.dense.bias', 'encoder.layer.10.attention.output.dense.weight', 'encoder.layer.10.attention.self.key.bias', 'encoder.layer.10.attention.self.key.weight', 'encoder.layer.10.attention.self.query.bias', 'encoder.layer.10.attention.self.query.weight', 'encoder.layer.10.attention.self.value.bias', 'encoder.layer.10.attention.self.value.weight', 'encoder.layer.10.intermediate.dense.bias', 'encoder.layer.10.intermediate.dense.weight', 'encoder.layer.10.output.LayerNorm.bias', 'encoder.layer.10.output.LayerNorm.weight', 'encoder.layer.10.output.dense.bias', 'encoder.layer.10.output.dense.weight', 'encoder.layer.11.attention.output.LayerNorm.bias', 'encoder.layer.11.attention.output.LayerNorm.weight', 'encoder.layer.11.attention.output.dense.bias', 'encoder.layer.11.attention.output.dense.weight', 'encoder.layer.11.attention.self.key.bias', 'encoder.layer.11.attention.self.key.weight', 'encoder.layer.11.attention.self.query.bias', 'encoder.layer.11.attention.self.query.weight', 'encoder.layer.11.attention.self.value.bias', 'encoder.layer.11.attention.self.value.weight', 'encoder.layer.11.intermediate.dense.bias', 'encoder.layer.11.intermediate.dense.weight', 'encoder.layer.11.output.LayerNorm.bias', 'encoder.layer.11.output.LayerNorm.weight', 'encoder.layer.11.output.dense.bias', 'encoder.layer.11.output.dense.weight', 'encoder.layer.2.attention.output.LayerNorm.bias', 'encoder.layer.2.attention.output.LayerNorm.weight', 'encoder.layer.2.attention.output.dense.bias', 'encoder.layer.2.attention.output.dense.weight', 'encoder.layer.2.attention.self.key.bias', 'encoder.layer.2.attention.self.key.weight', 'encoder.layer.2.attention.self.query.bias', 'encoder.layer.2.attention.self.query.weight', 'encoder.layer.2.attention.self.value.bias', 'encoder.layer.2.attention.self.value.weight', 'encoder.layer.2.intermediate.dense.bias', 'encoder.layer.2.intermediate.dense.weight', 'encoder.layer.2.output.LayerNorm.bias', 'encoder.layer.2.output.LayerNorm.weight', 'encoder.layer.2.output.dense.bias', 'encoder.layer.2.output.dense.weight', 'encoder.layer.3.attention.output.LayerNorm.bias', 'encoder.layer.3.attention.output.LayerNorm.weight', 'encoder.layer.3.attention.output.dense.bias', 'encoder.layer.3.attention.output.dense.weight', 'encoder.layer.3.attention.self.key.bias', 'encoder.layer.3.attention.self.key.weight', 'encoder.layer.3.attention.self.query.bias', 'encoder.layer.3.attention.self.query.weight', 'encoder.layer.3.attention.self.value.bias', 'encoder.layer.3.attention.self.value.weight', 'encoder.layer.3.intermediate.dense.bias', 'encoder.layer.3.intermediate.dense.weight', 'encoder.layer.3.output.LayerNorm.bias', 'encoder.layer.3.output.LayerNorm.weight', 'encoder.layer.3.output.dense.bias', 'encoder.layer.3.output.dense.weight', 'encoder.layer.4.attention.output.LayerNorm.bias', 'encoder.layer.4.attention.output.LayerNorm.weight', 'encoder.layer.4.attention.output.dense.bias', 'encoder.layer.4.attention.output.dense.weight', 'encoder.layer.4.attention.self.key.bias', 'encoder.layer.4.attention.self.key.weight', 'encoder.layer.4.attention.self.query.bias', 'encoder.layer.4.attention.self.query.weight', 'encoder.layer.4.attention.self.value.bias', 'encoder.layer.4.attention.self.value.weight', 'encoder.layer.4.intermediate.dense.bias', 'encoder.layer.4.intermediate.dense.weight', 'encoder.layer.4.output.LayerNorm.bias', 'encoder.layer.4.output.LayerNorm.weight', 'encoder.layer.4.output.dense.bias', 'encoder.layer.4.output.dense.weight', 'encoder.layer.5.attention.output.LayerNorm.bias', 'encoder.layer.5.attention.output.LayerNorm.weight', 'encoder.layer.5.attention.output.dense.bias', 'encoder.layer.5.attention.output.dense.weight', 'encoder.layer.5.attention.self.key.bias', 'encoder.layer.5.attention.self.key.weight', 'encoder.layer.5.attention.self.query.bias', 'encoder.layer.5.attention.self.query.weight', 'encoder.layer.5.attention.self.value.bias', 'encoder.layer.5.attention.self.value.weight', 'encoder.layer.5.intermediate.dense.bias', 'encoder.layer.5.intermediate.dense.weight', 'encoder.layer.5.output.LayerNorm.bias', 'encoder.layer.5.output.LayerNorm.weight', 'encoder.layer.5.output.dense.bias', 'encoder.layer.5.output.dense.weight', 'encoder.layer.6.attention.output.LayerNorm.bias', 'encoder.layer.6.attention.output.LayerNorm.weight', 'encoder.layer.6.attention.output.dense.bias', 'encoder.layer.6.attention.output.dense.weight', 'encoder.layer.6.attention.self.key.bias', 'encoder.layer.6.attention.self.key.weight', 'encoder.layer.6.attention.self.query.bias', 'encoder.layer.6.attention.self.query.weight', 'encoder.layer.6.attention.self.value.bias', 'encoder.layer.6.attention.self.value.weight', 'encoder.layer.6.intermediate.dense.bias', 'encoder.layer.6.intermediate.dense.weight', 'encoder.layer.6.output.LayerNorm.bias', 'encoder.layer.6.output.LayerNorm.weight', 'encoder.layer.6.output.dense.bias', 'encoder.layer.6.output.dense.weight', 'encoder.layer.7.attention.output.LayerNorm.bias', 'encoder.layer.7.attention.output.LayerNorm.weight', 'encoder.layer.7.attention.output.dense.bias', 'encoder.layer.7.attention.output.dense.weight', 'encoder.layer.7.attention.self.key.bias', 'encoder.layer.7.attention.self.key.weight', 'encoder.layer.7.attention.self.query.bias', 'encoder.layer.7.attention.self.query.weight', 'encoder.layer.7.attention.self.value.bias', 'encoder.layer.7.attention.self.value.weight', 'encoder.layer.7.intermediate.dense.bias', 'encoder.layer.7.intermediate.dense.weight', 'encoder.layer.7.output.LayerNorm.bias', 'encoder.layer.7.output.LayerNorm.weight', 'encoder.layer.7.output.dense.bias', 'encoder.layer.7.output.dense.weight', 'encoder.layer.8.attention.output.LayerNorm.bias', 'encoder.layer.8.attention.output.LayerNorm.weight', 'encoder.layer.8.attention.output.dense.bias', 'encoder.layer.8.attention.output.dense.weight', 'encoder.layer.8.attention.self.key.bias', 'encoder.layer.8.attention.self.key.weight', 'encoder.layer.8.attention.self.query.bias', 'encoder.layer.8.attention.self.query.weight', 'encoder.layer.8.attention.self.value.bias', 'encoder.layer.8.attention.self.value.weight', 'encoder.layer.8.intermediate.dense.bias', 'encoder.layer.8.intermediate.dense.weight', 'encoder.layer.8.output.LayerNorm.bias', 'encoder.layer.8.output.LayerNorm.weight', 'encoder.layer.8.output.dense.bias', 'encoder.layer.8.output.dense.weight', 'encoder.layer.9.attention.output.LayerNorm.bias', 'encoder.layer.9.attention.output.LayerNorm.weight', 'encoder.layer.9.attention.output.dense.bias', 'encoder.layer.9.attention.output.dense.weight', 'encoder.layer.9.attention.self.key.bias', 'encoder.layer.9.attention.self.key.weight', 'encoder.layer.9.attention.self.query.bias', 'encoder.layer.9.attention.self.query.weight', 'encoder.layer.9.attention.self.value.bias', 'encoder.layer.9.attention.self.value.weight', 'encoder.layer.9.intermediate.dense.bias', 'encoder.layer.9.intermediate.dense.weight', 'encoder.layer.9.output.LayerNorm.bias', 'encoder.layer.9.output.LayerNorm.weight', 'encoder.layer.9.output.dense.bias', 'encoder.layer.9.output.dense.weight', 'pooler.dense.bias', 'pooler.dense.weight']\n",
            "You should probably TRAIN this model on a down-stream task to be able to use it for predictions and inference.\n"
          ]
        }
      ]
    },
    {
      "cell_type": "code",
      "source": [
        "\n"
      ],
      "metadata": {
        "id": "OPXX10zZT_TT"
      },
      "execution_count": 6,
      "outputs": []
    },
    {
      "cell_type": "markdown",
      "source": [
        "# Lista de emojis: você pode aumentar ou diminuior essa lista"
      ],
      "metadata": {
        "id": "39AcqYp-UyUx"
      }
    },
    {
      "cell_type": "code",
      "source": [
        "lista_emojis = ['😀 😃 😄 😁 😆 😅 🤣 😂 🙂 🙃 🫠 😉 😊 😇 🥰 😍 🤩 😘 😗 😚 😙 🥲 😋 😛 😜 🤪 😝 🤑 🤗 🤭 🫢 🫣 🤫 🤔 🫡 🤐 🤨 😐 😑 😶 🫥 😶‍🌫️ 😏 😒 🙄 😬 😮‍💨 🥵 🤧 🤮 🤢 🤕 🤒 😷 😴 🤤 😪 😔 😌 🙂‍↕️ 🙂‍↔️ 🫨 🤥']"
      ],
      "metadata": {
        "id": "_ZH-HLI-UhZg"
      },
      "execution_count": 7,
      "outputs": []
    },
    {
      "cell_type": "markdown",
      "source": [
        "# Transformando a string de emojis em uma lista"
      ],
      "metadata": {
        "id": "k9YYWgg5mDpY"
      }
    },
    {
      "cell_type": "code",
      "source": [
        "lista_emojis = [emojize(em) for em in lista_emojis[0].split(' ') if em != '']\n",
        "lista_emojis"
      ],
      "metadata": {
        "colab": {
          "base_uri": "https://localhost:8080/"
        },
        "id": "iUerglV2XGtR",
        "outputId": "c2552a89-7154-4c32-d66c-0cd1db11ad71"
      },
      "execution_count": 8,
      "outputs": [
        {
          "output_type": "execute_result",
          "data": {
            "text/plain": [
              "['😀',\n",
              " '😃',\n",
              " '😄',\n",
              " '😁',\n",
              " '😆',\n",
              " '😅',\n",
              " '🤣',\n",
              " '😂',\n",
              " '🙂',\n",
              " '🙃',\n",
              " '\\U0001fae0',\n",
              " '😉',\n",
              " '😊',\n",
              " '😇',\n",
              " '🥰',\n",
              " '😍',\n",
              " '🤩',\n",
              " '😘',\n",
              " '😗',\n",
              " '😚',\n",
              " '😙',\n",
              " '🥲',\n",
              " '😋',\n",
              " '😛',\n",
              " '😜',\n",
              " '🤪',\n",
              " '😝',\n",
              " '🤑',\n",
              " '🤗',\n",
              " '🤭',\n",
              " '\\U0001fae2',\n",
              " '\\U0001fae3',\n",
              " '🤫',\n",
              " '🤔',\n",
              " '\\U0001fae1',\n",
              " '🤐',\n",
              " '🤨',\n",
              " '😐',\n",
              " '😑',\n",
              " '😶',\n",
              " '\\U0001fae5',\n",
              " '😶\\u200d🌫️',\n",
              " '😏',\n",
              " '😒',\n",
              " '🙄',\n",
              " '😬',\n",
              " '😮\\u200d💨',\n",
              " '🥵',\n",
              " '🤧',\n",
              " '🤮',\n",
              " '🤢',\n",
              " '🤕',\n",
              " '🤒',\n",
              " '😷',\n",
              " '😴',\n",
              " '🤤',\n",
              " '😪',\n",
              " '😔',\n",
              " '😌',\n",
              " '🙂\\u200d↕️',\n",
              " '🙂\\u200d↔️',\n",
              " '\\U0001fae8',\n",
              " '🤥']"
            ]
          },
          "metadata": {},
          "execution_count": 8
        }
      ]
    },
    {
      "cell_type": "markdown",
      "source": [
        "# Mesmo aqueles casos que não foram impressos, ainda são reconhecidos pelo pacote"
      ],
      "metadata": {
        "id": "Yo1cK8NYmJW7"
      }
    },
    {
      "cell_type": "code",
      "source": [
        "print(demojize(\"\\U0001fae5\", language='pt'))"
      ],
      "metadata": {
        "colab": {
          "base_uri": "https://localhost:8080/"
        },
        "id": "UV5olZ-Li-E_",
        "outputId": "2b9540ca-0c20-4710-e0b2-bc08247dd993"
      },
      "execution_count": 9,
      "outputs": [
        {
          "output_type": "stream",
          "name": "stdout",
          "text": [
            ":rosto_com_linha_pontilhada:\n"
          ]
        }
      ]
    },
    {
      "cell_type": "code",
      "source": [
        "# Transformando em texto, para serem processados pelo modelo"
      ],
      "metadata": {
        "id": "DpHjjTrVmPl6"
      },
      "execution_count": 10,
      "outputs": []
    },
    {
      "cell_type": "code",
      "source": [
        "tokenizer_tweets.demojizer = lambda x: demojize(x, language='pt')\n",
        "lista_emojis_norm = [tokenizer_tweets.normalizeTweet(s) for s in lista_emojis]\n",
        "lista_emojis_norm"
      ],
      "metadata": {
        "colab": {
          "base_uri": "https://localhost:8080/"
        },
        "id": "qA55wvKqV6s9",
        "outputId": "e42fcc43-205e-404b-f6e6-44ef572564a7"
      },
      "execution_count": 11,
      "outputs": [
        {
          "output_type": "execute_result",
          "data": {
            "text/plain": [
              "[':rosto_risonho:',\n",
              " ':rosto_risonho_com_olhos_bem_abertos:',\n",
              " ':rosto_risonho_com_olhos_sorridentes:',\n",
              " ':rosto_contente_com_olhos_sorridentes:',\n",
              " ':rosto_risonho_com_olhos_semicerrados:',\n",
              " ':rosto_risonho_com_gota_de_suor:',\n",
              " ':rolando_no_chão_de_rir:',\n",
              " ':rosto_chorando_de_rir:',\n",
              " ':rosto_levemente_sorridente:',\n",
              " ':rosto_de_cabeça_para_baixo:',\n",
              " ':rosto_derretendo:',\n",
              " ':rosto_com_olho_piscando:',\n",
              " ':rosto_sorridente_com_olhos_sorridentes:',\n",
              " ':rosto_sorridente_com_auréola:',\n",
              " ':rosto_sorridente_com_3_corações:',\n",
              " ':rosto_sorridente_com_olhos_de_coração:',\n",
              " ':rosto_com_olhar_maravilhado:',\n",
              " ':rosto_mandando_um_beijo:',\n",
              " ':rosto_beijando:',\n",
              " ':rosto_beijando_com_olhos_fechados:',\n",
              " ':rosto_beijando_com_olhos_sorridentes:',\n",
              " ':rosto_sorridente_com_lágrima:',\n",
              " ':rosto_saboreando_comida:',\n",
              " ':rosto_mostrando_a_língua:',\n",
              " ':rosto_piscando_e_com_língua_para_fora:',\n",
              " ':rosto_bizarro:',\n",
              " ':rosto_com_olhos_semicerrados_e_língua_para_fora:',\n",
              " ':rosto_com_cifrões:',\n",
              " ':rosto_abraçando:',\n",
              " ':rosto_com_a_mão_sobre_a_boca:',\n",
              " ':rosto_com_olhos_abertos_e_mão_sobre_a_boca:',\n",
              " ':rosto_com_olho_espiando:',\n",
              " ':rosto_fazendo_sinal_de_silêncio:',\n",
              " ':rosto_pensativo:',\n",
              " ':rosto_saudando:',\n",
              " ':rosto_com_boca_de_zíper:',\n",
              " ':rosto_com_sobrancelha_levantada:',\n",
              " ':rosto_neutro:',\n",
              " ':rosto_inexpressivo:',\n",
              " ':rosto_sem_boca:',\n",
              " ':rosto_com_linha_pontilhada:',\n",
              " ':rosto_sem_boca: \\u200d :nevoeiro:',\n",
              " ':rosto_com_sorriso_maroto:',\n",
              " ':rosto_aborrecido:',\n",
              " ':rosto_com_olhos_revirados:',\n",
              " ':rosto_expressando_desagrado:',\n",
              " ':rosto_com_boca_aberta: \\u200d :rapidez:',\n",
              " ':rosto_fervendo_de_calor:',\n",
              " ':rosto_espirrando:',\n",
              " ':rosto_vomitando:',\n",
              " ':rosto_nauseado:',\n",
              " ':rosto_com_atadura_na_cabeça:',\n",
              " ':rosto_com_termômetro:',\n",
              " ':rosto_com_máscara_médica:',\n",
              " ':rosto_dormindo:',\n",
              " ':rosto_babando:',\n",
              " ':rosto_sonolento:',\n",
              " ':rosto_deprimido:',\n",
              " ':rosto_aliviado:',\n",
              " ':rosto_levemente_sorridente: \\u200d :seta_para_cima_e_para_baixo:',\n",
              " ':rosto_levemente_sorridente: \\u200d :seta_para_esquerda_e_direita:',\n",
              " ':rosto_tremendo:',\n",
              " ':rosto_de_mentiroso:']"
            ]
          },
          "metadata": {},
          "execution_count": 11
        }
      ]
    },
    {
      "cell_type": "markdown",
      "source": [
        "# Limpando o texto: removendo :, _, e o que sobrou da codificação"
      ],
      "metadata": {
        "id": "GdO8JncMZrha"
      }
    },
    {
      "cell_type": "code",
      "source": [
        "trad = str.maketrans('_:\\u200d', '   ')\n",
        "lista_emojis_clean = [(em.translate(trad).strip().replace('  ','')) for em in lista_emojis_norm]\n",
        "lista_emojis_clean"
      ],
      "metadata": {
        "colab": {
          "base_uri": "https://localhost:8080/"
        },
        "id": "DuOXXlPhZqrl",
        "outputId": "3ffc201f-d32c-4ffd-d270-da7a871ee4cb",
        "collapsed": true
      },
      "execution_count": 12,
      "outputs": [
        {
          "output_type": "execute_result",
          "data": {
            "text/plain": [
              "['rosto risonho',\n",
              " 'rosto risonho com olhos bem abertos',\n",
              " 'rosto risonho com olhos sorridentes',\n",
              " 'rosto contente com olhos sorridentes',\n",
              " 'rosto risonho com olhos semicerrados',\n",
              " 'rosto risonho com gota de suor',\n",
              " 'rolando no chão de rir',\n",
              " 'rosto chorando de rir',\n",
              " 'rosto levemente sorridente',\n",
              " 'rosto de cabeça para baixo',\n",
              " 'rosto derretendo',\n",
              " 'rosto com olho piscando',\n",
              " 'rosto sorridente com olhos sorridentes',\n",
              " 'rosto sorridente com auréola',\n",
              " 'rosto sorridente com 3 corações',\n",
              " 'rosto sorridente com olhos de coração',\n",
              " 'rosto com olhar maravilhado',\n",
              " 'rosto mandando um beijo',\n",
              " 'rosto beijando',\n",
              " 'rosto beijando com olhos fechados',\n",
              " 'rosto beijando com olhos sorridentes',\n",
              " 'rosto sorridente com lágrima',\n",
              " 'rosto saboreando comida',\n",
              " 'rosto mostrando a língua',\n",
              " 'rosto piscando e com língua para fora',\n",
              " 'rosto bizarro',\n",
              " 'rosto com olhos semicerrados e língua para fora',\n",
              " 'rosto com cifrões',\n",
              " 'rosto abraçando',\n",
              " 'rosto com a mão sobre a boca',\n",
              " 'rosto com olhos abertos e mão sobre a boca',\n",
              " 'rosto com olho espiando',\n",
              " 'rosto fazendo sinal de silêncio',\n",
              " 'rosto pensativo',\n",
              " 'rosto saudando',\n",
              " 'rosto com boca de zíper',\n",
              " 'rosto com sobrancelha levantada',\n",
              " 'rosto neutro',\n",
              " 'rosto inexpressivo',\n",
              " 'rosto sem boca',\n",
              " 'rosto com linha pontilhada',\n",
              " 'rosto sem boca nevoeiro',\n",
              " 'rosto com sorriso maroto',\n",
              " 'rosto aborrecido',\n",
              " 'rosto com olhos revirados',\n",
              " 'rosto expressando desagrado',\n",
              " 'rosto com boca aberta rapidez',\n",
              " 'rosto fervendo de calor',\n",
              " 'rosto espirrando',\n",
              " 'rosto vomitando',\n",
              " 'rosto nauseado',\n",
              " 'rosto com atadura na cabeça',\n",
              " 'rosto com termômetro',\n",
              " 'rosto com máscara médica',\n",
              " 'rosto dormindo',\n",
              " 'rosto babando',\n",
              " 'rosto sonolento',\n",
              " 'rosto deprimido',\n",
              " 'rosto aliviado',\n",
              " 'rosto levemente sorridente seta para cima e para baixo',\n",
              " 'rosto levemente sorridente seta para esquerda e direita',\n",
              " 'rosto tremendo',\n",
              " 'rosto de mentiroso']"
            ]
          },
          "metadata": {},
          "execution_count": 12
        }
      ]
    },
    {
      "cell_type": "code",
      "source": [
        "tokens_emojis = [tokenizer_tweets(element, return_tensors=\"pt\", padding=False, add_special_tokens=False) for element in lista_emojis_clean]\n"
      ],
      "metadata": {
        "id": "miisZq0oTeKJ"
      },
      "execution_count": 13,
      "outputs": []
    },
    {
      "cell_type": "markdown",
      "source": [
        "# vendo os tokens de verdade"
      ],
      "metadata": {
        "id": "ziDpKppJYMxL"
      }
    },
    {
      "cell_type": "code",
      "source": [
        "tokens = [tokenizer_tweets.convert_ids_to_tokens(element['input_ids'][0]) for element in tokens_emojis]\n",
        "print(tokens)\n"
      ],
      "metadata": {
        "colab": {
          "base_uri": "https://localhost:8080/"
        },
        "id": "fyV21md6YP7q",
        "outputId": "8bda9324-badf-4b6c-945f-f3cd4bc13205"
      },
      "execution_count": 14,
      "outputs": [
        {
          "output_type": "stream",
          "name": "stdout",
          "text": [
            "[['rosto', 'ris@@', 'onho'], ['rosto', 'ris@@', 'onho', 'com', 'olhos', 'bem', 'abertos'], ['rosto', 'ris@@', 'onho', 'com', 'olhos', 'sorrident@@', 'es'], ['rosto', 'contente', 'com', 'olhos', 'sorrident@@', 'es'], ['rosto', 'ris@@', 'onho', 'com', 'olhos', '<unk>', 'dos'], ['rosto', 'ris@@', 'onho', 'com', 'gota', 'de', 'suor'], ['rolando', 'no', 'chão', 'de', 'rir'], ['rosto', 'chorando', 'de', 'rir'], ['rosto', 'levemente', 'sorridente'], ['rosto', 'de', 'cabeça', 'para', 'baixo'], ['rosto', 'derretendo'], ['rosto', 'com', 'olho', 'piscando'], ['rosto', 'sorridente', 'com', 'olhos', 'sorrident@@', 'es'], ['rosto', 'sorridente', 'com', 'auré@@', 'ola'], ['rosto', 'sorridente', 'com', '3', 'corações'], ['rosto', 'sorridente', 'com', 'olhos', 'de', 'coração'], ['rosto', 'com', 'olhar', 'maravilh@@', 'ado'], ['rosto', 'mandando', 'um', 'beijo'], ['rosto', 'beijando'], ['rosto', 'beijando', 'com', 'olhos', 'fechados'], ['rosto', 'beijando', 'com', 'olhos', 'sorrident@@', 'es'], ['rosto', 'sorridente', 'com', 'lágrima'], ['rosto', 'sabore@@', 'ando', 'comida'], ['rosto', 'mostrando', 'a', 'língua'], ['rosto', 'piscando', 'e', 'com', 'língua', 'para', 'fora'], ['rosto', 'bizarro'], ['rosto', 'com', 'olhos', '<unk>', 'dos', 'e', 'língua', 'para', 'fora'], ['rosto', 'com', 'cifr@@', 'ões'], ['rosto', 'abraçando'], ['rosto', 'com', 'a', 'mão', 'sobre', 'a', 'boca'], ['rosto', 'com', 'olhos', 'abertos', 'e', 'mão', 'sobre', 'a', 'boca'], ['rosto', 'com', 'olho', 'espi@@', 'ando'], ['rosto', 'fazendo', 'sinal', 'de', 'silêncio'], ['rosto', 'pensativo'], ['rosto', 'sau@@', 'dando'], ['rosto', 'com', 'boca', 'de', 'zíper'], ['rosto', 'com', 'sobrancelha', 'levantada'], ['rosto', 'neutro'], ['rosto', 'in@@', 'express@@', 'ivo'], ['rosto', 'sem', 'boca'], ['rosto', 'com', 'linha', 'pon@@', 'ti@@', 'lh@@', 'ada'], ['rosto', 'sem', 'boca', 'ne@@', 'voeiro'], ['rosto', 'com', 'sorriso', 'maroto'], ['rosto', 'aborreci@@', 'do'], ['rosto', 'com', 'olhos', 'revira@@', 'dos'], ['rosto', 'express@@', 'ando', 'desagra@@', 'do'], ['rosto', 'com', 'boca', 'aberta', 'rapidez'], ['rosto', 'fervendo', 'de', 'calor'], ['rosto', 'espirrando'], ['rosto', 'vomitando'], ['rosto', 'nause@@', 'ado'], ['rosto', 'com', 'ata@@', 'dura', 'na', 'cabeça'], ['rosto', 'com', 'termô@@', 'metro'], ['rosto', 'com', 'máscara', 'médica'], ['rosto', 'dormindo'], ['rosto', 'babando'], ['rosto', 'sonol@@', 'ento'], ['rosto', 'deprimido'], ['rosto', 'aliviado'], ['rosto', 'levemente', 'sorridente', 'seta', 'para', 'cima', 'e', 'para', 'baixo'], ['rosto', 'levemente', 'sorridente', 'seta', 'para', 'esquerda', 'e', 'direita'], ['rosto', 'tremendo'], ['rosto', 'de', 'mentiroso']]\n"
          ]
        }
      ]
    },
    {
      "cell_type": "code",
      "source": [
        "# Média dos embeddings, como visto na aula"
      ],
      "metadata": {
        "id": "gvE2XX5fmcVL"
      },
      "execution_count": 15,
      "outputs": []
    },
    {
      "cell_type": "code",
      "source": [
        "def mean_pooling(model_output, attention_mask):\n",
        "    token_embeddings = model_output[0] #First element of model_output contains all token embeddings\n",
        "\n",
        "    input_mask_expanded = attention_mask.unsqueeze(-1).expand(token_embeddings.size()).float() #para garantir que a máscara tem o mesmo tamanho do token\n",
        "\n",
        "    return torch.sum(token_embeddings * input_mask_expanded, 1) / torch.clamp(input_mask_expanded.sum(1), min=1e-9)"
      ],
      "metadata": {
        "id": "tvVpsoY5cSaQ"
      },
      "execution_count": 16,
      "outputs": []
    },
    {
      "cell_type": "markdown",
      "source": [
        "# Agrupando as representações de cada emoji\n",
        "\n",
        "> Adicionar aspas\n",
        "\n"
      ],
      "metadata": {
        "id": "nNpR0IEWmfq-"
      }
    },
    {
      "cell_type": "code",
      "source": [
        "def get_tensors(model, tokens):\n",
        "  tensores = []\n",
        "  for element in tokens:\n",
        "    with torch.no_grad():\n",
        "      model_output = model(**element)\n",
        "    sentence_embeddings = mean_pooling(model_output, element['attention_mask'])\n",
        "    #print(sentence_embeddings.shape)\n",
        "    tensores.append(sentence_embeddings)\n",
        "  return tensores\n"
      ],
      "metadata": {
        "id": "fytpBVBScWXo"
      },
      "execution_count": 17,
      "outputs": []
    },
    {
      "cell_type": "code",
      "source": [
        "tensores = get_tensors(model_tweets, tokens_emojis)\n",
        "tensores[0].shape"
      ],
      "metadata": {
        "colab": {
          "base_uri": "https://localhost:8080/"
        },
        "id": "SyuJzofFsqsD",
        "outputId": "2b3e28d3-b05c-4b2d-a45e-4824ed443002"
      },
      "execution_count": 18,
      "outputs": [
        {
          "output_type": "execute_result",
          "data": {
            "text/plain": [
              "torch.Size([1, 768])"
            ]
          },
          "metadata": {},
          "execution_count": 18
        }
      ]
    },
    {
      "cell_type": "code",
      "source": [
        "tensores[1]"
      ],
      "metadata": {
        "colab": {
          "base_uri": "https://localhost:8080/"
        },
        "id": "arM_hQOkgs68",
        "outputId": "13b94f71-3315-415c-b225-b0de725d8ec8"
      },
      "execution_count": 19,
      "outputs": [
        {
          "output_type": "execute_result",
          "data": {
            "text/plain": [
              "tensor([[ 1.9286e-01,  2.2137e+00,  3.2509e-01,  2.5645e-01,  6.6968e-01,\n",
              "          1.0372e-02, -6.2777e-01, -3.0471e-01,  1.0789e+00,  1.2723e+00,\n",
              "         -3.8743e-01, -1.1473e+00,  2.1440e-01, -1.9386e-01,  1.5898e+00,\n",
              "          3.0939e-01, -1.3229e+00,  1.1887e-01, -1.2316e+00,  3.5716e-02,\n",
              "         -8.4433e-01,  2.1301e-01, -6.3575e-01,  4.8809e-01, -9.5146e-02,\n",
              "         -2.3021e+00, -1.7001e-01, -1.5525e-01,  1.3451e-01,  1.8215e+00,\n",
              "          3.7919e-03, -3.8106e-01, -7.4338e-01,  2.1115e-01,  9.8214e-01,\n",
              "          1.0570e+00, -1.9111e-01,  1.6874e+00, -7.4684e-01,  1.7677e-01,\n",
              "         -3.4650e-02, -4.4524e-01,  6.4963e-01, -2.1460e-01, -7.0118e-01,\n",
              "          1.6348e-01,  4.8481e-01, -2.3167e+00,  8.5816e-02, -4.0659e-01,\n",
              "          1.8113e+00,  4.5369e-01,  8.3477e-01,  1.1589e+00,  2.9627e-01,\n",
              "         -1.1762e+00,  1.0872e-01,  9.3897e-01, -6.2133e-03, -1.2192e+00,\n",
              "         -5.9274e-01,  7.9617e-01,  1.7236e-01,  1.6033e+00,  1.8396e+00,\n",
              "         -2.5603e-01, -1.0373e-01, -2.5270e-01,  5.0827e-01, -1.4700e-01,\n",
              "         -1.8012e+00,  9.7979e-02, -2.3709e-01, -1.3925e-01, -4.8934e-01,\n",
              "         -3.3888e-01,  1.9604e+00,  9.8615e-01,  6.4235e-01,  9.0836e-01,\n",
              "          1.6798e-01,  4.8309e-01, -7.9227e-01, -3.8194e-01,  8.1665e-01,\n",
              "          1.9204e-01,  3.5216e-01, -4.1414e-01, -5.9128e-01, -9.7004e-03,\n",
              "          1.4129e+00, -2.0128e+00,  9.8481e-02, -1.8719e+00, -5.4635e-01,\n",
              "         -2.0970e-01, -1.4983e+00,  1.2068e+00, -4.2786e-03, -5.8702e-02,\n",
              "         -5.8257e-01, -1.0985e+00,  5.8980e-01, -9.1329e-01,  1.2710e-02,\n",
              "         -9.5454e-01,  1.7933e-01, -8.4258e-01, -4.1527e-02, -6.1501e-01,\n",
              "          6.8247e-01,  2.5075e-01, -2.4152e-01, -7.5965e-01, -1.1824e-01,\n",
              "         -1.9150e+00, -4.5629e-03, -3.4187e-03, -1.2247e-01,  3.3178e-01,\n",
              "          4.3821e-01,  1.1757e+00, -4.8801e-01, -5.8608e-01, -4.0389e-01,\n",
              "          1.4788e-01,  1.1864e-01, -1.5357e-01, -7.8523e-01,  2.5475e-01,\n",
              "          6.9312e-01,  3.1083e-01,  2.3473e-01, -1.0470e+00, -1.4950e+00,\n",
              "         -2.3552e-01,  3.3480e-01,  1.0153e+00,  1.6637e+00,  3.1722e-01,\n",
              "          1.0934e-01,  6.8019e-01,  6.3830e-01,  3.6545e-01,  1.9940e-01,\n",
              "          1.4836e+00,  7.3079e-01, -3.2734e-01,  1.6742e-01,  4.7830e-01,\n",
              "          3.2072e-01,  7.7100e-01, -5.3818e-01,  1.1994e+00, -1.7508e+00,\n",
              "          1.0939e+00, -4.7586e-01,  5.8835e-01, -5.1861e-01, -4.4988e-01,\n",
              "         -6.6215e-01, -1.1443e+00, -1.2570e+00, -4.4888e-02,  4.4526e-01,\n",
              "          1.5868e+00,  1.2417e+00, -8.0898e-01, -8.4709e-01,  9.0210e-01,\n",
              "          1.1066e+00, -3.1799e-01, -3.5617e-01, -2.1083e-01,  4.4493e-01,\n",
              "         -1.2889e-01,  6.1900e-01, -7.9850e-01, -6.8469e-01,  6.4937e-01,\n",
              "         -3.5409e-01, -3.3993e-01,  8.4184e-01,  1.6400e-01, -6.7165e-01,\n",
              "         -4.4015e-01,  1.6671e-01, -3.0132e-01,  3.0891e-01, -2.1886e-01,\n",
              "         -5.3379e-02,  7.6980e-01, -1.8481e+00, -1.2239e-01, -2.1071e-01,\n",
              "         -2.5411e-02, -1.9962e-01,  8.8404e-01, -4.5938e-01, -8.2061e-01,\n",
              "          9.7972e-01,  2.1622e+00,  4.9125e-01,  9.0032e-01,  1.0867e+00,\n",
              "          7.0353e-01, -2.1097e-02,  3.6392e-01, -1.1155e+00, -1.3683e+00,\n",
              "          2.9431e-01,  2.8475e-01,  6.3909e-01,  5.5116e-01,  5.2926e-01,\n",
              "         -4.6417e-01,  6.3034e-02, -7.8236e-01, -3.0165e-01, -1.1638e+00,\n",
              "         -3.2298e-01,  1.2584e+00, -6.5996e-01,  1.5799e+00,  1.2744e+00,\n",
              "         -2.6230e+00,  6.9768e-01, -5.0532e-01,  3.6406e-01,  1.2000e+00,\n",
              "         -9.1488e-01,  1.4158e-01, -2.1818e-01, -1.0897e+00,  3.1788e-01,\n",
              "          4.1088e-01,  8.2540e-01,  4.5857e-01, -3.7201e-01, -4.6638e-02,\n",
              "          8.4409e-01,  5.9076e-01, -1.0832e+00,  1.6581e+00,  5.3692e-01,\n",
              "          8.0777e-01,  1.3219e+00, -2.6871e-01,  4.5839e-01, -3.7327e-01,\n",
              "          3.7099e-01, -1.3163e-01,  2.2106e+00,  2.7605e-01, -4.6836e-02,\n",
              "         -8.2339e-02, -6.1619e-01, -9.7804e-01,  5.3986e-01,  1.4127e+00,\n",
              "          5.2959e-01, -8.9364e-01, -4.2723e-01,  4.7454e-01,  8.0098e-01,\n",
              "          2.2275e-01,  1.3294e-01,  6.2113e-01,  6.6293e-01, -2.6008e-01,\n",
              "         -8.6772e-02,  1.4172e+00,  6.1088e-01, -4.1266e-01,  2.7346e-01,\n",
              "         -3.5278e-01, -1.1539e+00, -1.8216e-01,  6.6635e-01,  1.1079e+00,\n",
              "         -1.0607e+00, -7.2773e-01,  1.3791e+00,  6.4204e-01, -3.5334e-01,\n",
              "          4.6239e-01, -3.8006e-01, -5.9597e-01, -3.9675e-01, -5.0263e-01,\n",
              "         -1.3557e+00, -1.0660e+00,  3.3899e-01, -5.3556e-01, -8.2472e-01,\n",
              "         -8.1555e-01,  2.3406e-01, -1.2387e+00,  2.4368e-01,  2.6683e-01,\n",
              "          1.1852e+00,  1.3018e-01,  1.3362e-01, -1.2714e+00,  1.1589e-01,\n",
              "         -7.3944e-01,  1.0421e+00, -1.4774e+00, -3.6526e-01, -5.8519e-02,\n",
              "         -6.8019e-02, -5.0825e-01, -1.4323e-01, -2.2361e-01, -2.8475e-01,\n",
              "          9.2542e-01, -9.5079e-01,  3.7940e-01,  3.0091e-01, -7.1245e-01,\n",
              "          8.8716e-01, -3.7185e-01, -1.1372e+00,  1.7393e+00,  7.4290e-01,\n",
              "         -1.2718e+00,  5.3419e-02,  7.2401e-01, -1.2944e-01, -1.1141e-01,\n",
              "          3.0352e-01, -1.2489e+00,  1.2175e+00, -7.2014e-01,  3.3768e-01,\n",
              "          1.7136e-01, -1.3253e-01, -5.4310e-01, -3.1299e-01, -2.2088e-01,\n",
              "          7.9449e-01,  1.2765e+00,  3.4808e-01,  9.8644e-01, -6.6083e-01,\n",
              "         -7.2511e-01,  1.4777e-03,  1.0009e+00, -4.2543e-01,  7.5923e-01,\n",
              "          3.1373e-02, -1.0712e+00,  1.4078e-01,  1.4041e+00,  1.0284e+00,\n",
              "         -6.9684e-01, -1.1379e+00, -1.2740e-01,  3.0028e-01, -1.5937e+00,\n",
              "          1.6693e+00,  4.2081e-01,  7.4835e-02, -1.2980e+00, -1.0764e+00,\n",
              "          8.1423e-02, -1.3300e-01,  3.5506e-01, -6.1339e-01, -7.0863e-01,\n",
              "          3.9658e-01, -9.6895e-02, -6.0279e-02, -4.7751e-02,  5.2836e-02,\n",
              "          6.8444e-01,  6.5239e-01, -9.8528e-01, -4.2719e-01,  6.6241e-01,\n",
              "          3.9751e-01,  1.1209e+00,  9.3674e-01,  6.5955e-01,  4.5632e-01,\n",
              "          5.5653e-01,  1.3928e+00,  5.4585e-01,  9.8590e-01, -2.8603e-02,\n",
              "         -9.3219e-01, -1.3699e+00, -2.6957e-01, -3.1279e-01,  3.6322e-01,\n",
              "          1.3566e+00,  9.8241e-01,  1.3982e+00, -3.9330e-02,  3.3526e-01,\n",
              "          1.3452e-01, -4.4391e-01, -6.3631e-03, -2.9719e-01, -4.6815e-01,\n",
              "         -1.2802e+00,  7.0877e-01,  1.4667e+00,  4.0627e-01, -8.9299e-01,\n",
              "          2.2606e-01,  1.0723e+00,  1.7019e+00,  5.9582e-01, -2.1458e+00,\n",
              "         -4.8619e-01,  7.6823e-01, -7.2613e-01, -3.5828e-01,  5.3245e-01,\n",
              "         -8.3996e-01,  1.6670e-01,  5.3547e-01,  1.5169e+00, -1.6166e+00,\n",
              "          3.8179e-01, -1.3558e+00,  2.5705e-01, -6.0101e-01, -8.8477e-01,\n",
              "         -8.4687e-01,  1.1485e+00, -4.5364e-01, -4.5220e-01,  7.7926e-01,\n",
              "          4.2750e-01,  6.4179e-01, -9.1187e-02,  1.1745e+00,  1.0085e+00,\n",
              "          5.8275e-01,  7.0848e-01,  2.2918e-02, -8.4074e-01,  1.5656e+00,\n",
              "         -2.3092e-01, -7.9361e-02,  4.1509e-01,  8.6330e-01,  5.6648e-01,\n",
              "         -1.9349e+00, -4.8212e-01, -4.2530e-01,  9.4884e-01, -1.3762e-02,\n",
              "         -2.2581e-02, -1.2602e-01, -5.1321e-02,  4.8301e-01, -1.0944e+00,\n",
              "          7.2930e-01,  7.5585e-01,  6.6258e-02, -3.6756e-01, -4.9450e-01,\n",
              "          6.9679e-01,  8.0556e-02, -5.1899e-01,  9.8085e-01,  1.4555e+00,\n",
              "         -1.2561e+00,  8.4091e-01, -3.3485e-01, -1.3032e-03,  2.9171e-01,\n",
              "          2.4678e-01, -4.3126e-01, -1.5841e+00, -6.5545e-03, -1.2867e+00,\n",
              "         -9.3421e-03, -2.3111e-01, -3.9948e-01,  4.1676e-01,  6.5979e-01,\n",
              "          3.1894e-01, -4.0338e-01, -1.1561e+00,  3.8000e-02, -1.9590e-01,\n",
              "          4.5784e-02, -5.7043e-01, -6.6500e-01, -1.9788e+00, -7.6135e-01,\n",
              "          1.9222e-01,  6.8603e-01,  3.1028e-01,  2.2477e-01,  7.5819e-01,\n",
              "         -4.4730e-01,  1.0304e+00, -8.4478e-01,  4.1069e-01,  2.2328e-01,\n",
              "         -6.0099e-01, -2.5675e-01,  7.9236e-01, -5.4411e-01,  1.0183e+00,\n",
              "         -1.5695e+00, -6.7373e-01,  8.6235e-01, -4.0547e-01,  5.1742e-01,\n",
              "          1.2635e+00,  3.4618e-01, -1.0323e+00, -1.4850e-01, -7.9854e-02,\n",
              "         -3.4768e-02,  1.6895e-01,  8.6391e-01, -7.2185e-01,  2.3817e-01,\n",
              "         -3.2252e-01,  4.1213e-01,  1.4116e+00,  1.0758e+00,  1.1506e-01,\n",
              "         -3.5919e-01,  1.1015e+00, -9.5788e-01,  2.7000e-01,  1.2087e+00,\n",
              "          5.0449e-01, -1.4028e+00,  3.4594e-02,  2.0483e-01,  1.0437e-01,\n",
              "          3.3481e-01, -1.1476e+00, -8.6201e-01, -4.2617e-01,  1.5152e-01,\n",
              "         -9.4929e-01,  6.1926e-01,  1.1035e+00,  1.0742e+00, -4.4898e-01,\n",
              "          1.3358e-01, -1.1456e+00,  1.0370e+00, -4.5508e-01, -2.1674e-01,\n",
              "          7.0663e-01,  6.1640e-01,  3.4225e-01, -1.4265e+00, -8.0701e-01,\n",
              "          4.1944e-01,  8.6557e-01, -7.2368e-01,  1.0023e+00, -3.7399e-01,\n",
              "         -3.9819e-01, -1.0877e+00, -5.5378e-02, -6.6345e-01, -7.6833e-02,\n",
              "         -1.1366e+00, -1.2192e-01, -7.0140e-01, -5.5409e-01,  6.2125e-01,\n",
              "          1.8431e-01, -8.5251e-01,  9.6086e-01,  8.4103e-01,  9.6728e-01,\n",
              "         -1.8053e+00,  4.7693e-01, -6.6874e-01,  6.1658e-01, -6.0507e-01,\n",
              "         -9.1416e-01, -1.0425e+00, -5.6630e-01, -9.7648e-01,  2.1275e-01,\n",
              "          9.2010e-01, -1.5380e+00,  3.2436e-02, -1.2485e+00, -1.1574e+00,\n",
              "          7.2122e-01,  7.2810e-01, -4.8534e-01, -1.3713e+00,  3.3417e-01,\n",
              "          8.4320e-02,  1.5689e-01, -2.1875e-01, -3.0732e-02, -3.3563e-01,\n",
              "          1.1552e+00, -1.1609e+00, -2.3801e-02,  6.3489e-01,  1.0284e+00,\n",
              "         -2.4704e+00,  1.6220e+00, -1.5964e+00, -5.3995e-01,  2.3638e+00,\n",
              "         -1.6675e+00, -1.0861e+00,  9.1298e-01, -1.4955e+00, -1.0815e-03,\n",
              "         -8.1220e-01,  9.7980e-01, -8.2699e-01, -6.6729e-02,  5.2100e-01,\n",
              "          1.0206e+00, -9.2341e-01,  9.9892e-01,  5.1347e-01,  6.9914e-03,\n",
              "          9.2442e-02,  4.2080e-01,  5.2971e-01,  1.5173e+00, -8.5036e-01,\n",
              "         -2.0814e-01, -1.4861e-01,  1.2866e+00,  7.1916e-01, -4.5224e-01,\n",
              "         -3.5567e-01, -8.0407e-02, -6.9837e-02, -4.3331e-01, -1.6335e-01,\n",
              "         -5.4770e-01, -9.3826e-01, -6.0147e-01, -8.6624e-02,  5.9074e-01,\n",
              "          1.1571e+00,  1.3594e-03, -4.4175e-01, -2.2547e-01,  5.4868e-01,\n",
              "          2.7238e-01, -8.4161e-01,  3.0930e-01, -1.7297e+00,  1.1404e+00,\n",
              "          1.1871e-01, -1.3915e+00, -1.2726e+00, -1.0673e-01, -1.5086e+00,\n",
              "         -7.0858e-01,  2.7107e-01, -2.2831e-01, -1.3018e+00,  7.6046e-01,\n",
              "          1.1288e+00, -1.9778e-01,  9.9381e-01, -1.2539e-01, -3.1083e-01,\n",
              "          7.0544e-01, -8.3986e-01,  5.3366e-01, -2.8428e-01,  1.0367e+00,\n",
              "          4.9797e-01, -3.7941e-01, -2.3409e+00, -6.2876e-01,  1.0983e+00,\n",
              "         -5.3328e-01,  3.9243e-01, -9.8104e-01, -2.9393e-01,  1.7017e-02,\n",
              "          3.1484e-02, -1.9990e+00,  4.6658e-01, -9.5910e-02, -9.4619e-02,\n",
              "          1.3863e+00, -1.0583e+00,  1.9327e-01, -4.2853e-01, -4.8284e-01,\n",
              "         -1.0890e-02,  4.2325e-01, -6.2018e-02,  8.0383e-01,  2.6572e-01,\n",
              "          8.5422e-02, -1.6471e+00, -8.8697e-01,  8.2151e-01,  1.7170e-01,\n",
              "         -1.5313e-01, -2.4635e-01, -1.0642e+00,  7.0295e-01, -6.7784e-01,\n",
              "          5.1023e-01,  1.5815e-01,  1.7381e-01, -6.0348e-01,  3.5299e-01,\n",
              "          1.5789e+00, -1.4554e+00, -1.0921e+00,  2.9335e-01, -1.1412e+00,\n",
              "         -6.5165e-01, -1.8438e-01, -2.7333e-01, -7.1317e-01,  7.4039e-02,\n",
              "          2.0389e-01, -4.9397e-01, -1.9830e-01,  8.7509e-01, -1.8934e-01,\n",
              "          1.3292e+00,  1.2109e+00, -9.7750e-01, -1.1673e+00, -2.0097e-01,\n",
              "         -1.6567e+00,  1.3968e+00,  4.7975e-01,  3.2643e-01, -1.1215e+00,\n",
              "          3.0331e-02,  1.9312e+00, -3.7217e-01,  1.3296e+00, -3.0841e-01,\n",
              "          2.0269e-01,  7.6521e-01, -1.8189e+00, -1.0599e+00,  1.1917e-01,\n",
              "         -2.3435e-01,  4.8062e-01, -4.2278e-01, -6.9954e-01, -3.1587e-01,\n",
              "         -1.3393e-01,  5.4073e-01,  2.8213e-01, -6.1634e-01, -1.5291e-02,\n",
              "          8.2625e-01,  5.6400e-01,  3.3490e-02]])"
            ]
          },
          "metadata": {},
          "execution_count": 19
        }
      ]
    },
    {
      "cell_type": "markdown",
      "source": [
        "# Calculando as similaridades"
      ],
      "metadata": {
        "id": "M5_0wBQdNQn9"
      }
    },
    {
      "cell_type": "code",
      "source": [
        "import torch.nn as nn\n"
      ],
      "metadata": {
        "id": "Wbhe21biMOmR"
      },
      "execution_count": 20,
      "outputs": []
    },
    {
      "cell_type": "code",
      "source": [
        "cos = nn.CosineSimilarity(dim=1, eps=1e-6)\n",
        "\n"
      ],
      "metadata": {
        "id": "hzcsMHe2MMil"
      },
      "execution_count": 21,
      "outputs": []
    },
    {
      "cell_type": "markdown",
      "source": [
        "# Agrupando as similaridades para cada emoji, comparando com todos os demais"
      ],
      "metadata": {
        "id": "nY4d1N5lmmAM"
      }
    },
    {
      "cell_type": "code",
      "source": [
        "def similaridades(tensores):\n",
        "  dict_similarity = {}\n",
        "  for i in range(len(lista_emojis)):\n",
        "    similares = []\n",
        "    tensor_emo = tensores[i]\n",
        "    emo = lista_emojis[i]\n",
        "    for j in range(len(tensores)):\n",
        "      tensor = tensores[j]\n",
        "      sim = cos(tensor_emo, tensor).item()\n",
        "      similares.append(sim)\n",
        "    dict_similarity[emojize(emo)] = similares\n",
        "  return dict_similarity\n"
      ],
      "metadata": {
        "id": "VS-vIv2RYJys"
      },
      "execution_count": 22,
      "outputs": []
    },
    {
      "cell_type": "markdown",
      "source": [
        ":# Abaixo, está uma linha do dicionário acima"
      ],
      "metadata": {
        "id": "SWy1_dXpmvDe"
      }
    },
    {
      "cell_type": "code",
      "source": [
        "sims = similaridades(tensores)\n",
        "ems = list(sims.keys())\n",
        "print(ems)\n",
        "print(sims[ems[0]])\n"
      ],
      "metadata": {
        "colab": {
          "base_uri": "https://localhost:8080/"
        },
        "id": "_LFfjGR7hDec",
        "outputId": "641e12ac-3fd9-455b-dff5-b312ce88614e"
      },
      "execution_count": 23,
      "outputs": [
        {
          "output_type": "stream",
          "name": "stdout",
          "text": [
            "['😀', '😃', '😄', '😁', '😆', '😅', '🤣', '😂', '🙂', '🙃', '\\U0001fae0', '😉', '😊', '😇', '🥰', '😍', '🤩', '😘', '😗', '😚', '😙', '🥲', '😋', '😛', '😜', '🤪', '😝', '🤑', '🤗', '🤭', '\\U0001fae2', '\\U0001fae3', '🤫', '🤔', '\\U0001fae1', '🤐', '🤨', '😐', '😑', '😶', '\\U0001fae5', '😶\\u200d🌫️', '😏', '😒', '🙄', '😬', '😮\\u200d💨', '🥵', '🤧', '🤮', '🤢', '🤕', '🤒', '😷', '😴', '🤤', '😪', '😔', '😌', '🙂\\u200d↕️', '🙂\\u200d↔️', '\\U0001fae8', '🤥']\n",
            "[0.9999999403953552, 0.8762502670288086, 0.8825151324272156, 0.8211770057678223, 0.8822728395462036, 0.8738915920257568, 0.7987434267997742, 0.8506783843040466, 0.8534958362579346, 0.8057628273963928, 0.8150188326835632, 0.841658353805542, 0.8150573968887329, 0.8112888932228088, 0.8258475661277771, 0.81396484375, 0.8432179093360901, 0.8563684821128845, 0.807572603225708, 0.8227288722991943, 0.8151195645332336, 0.8704707622528076, 0.8242447972297668, 0.8113107681274414, 0.7946100234985352, 0.8022494316101074, 0.7928464412689209, 0.824699342250824, 0.8038654923439026, 0.78805011510849, 0.7908545136451721, 0.8372868299484253, 0.8353076577186584, 0.8058976531028748, 0.8504239916801453, 0.8413769006729126, 0.8308033347129822, 0.8094325065612793, 0.8278390169143677, 0.8569456338882446, 0.7999792098999023, 0.832011342048645, 0.8417198657989502, 0.8381859660148621, 0.8442363739013672, 0.8332433104515076, 0.8321195840835571, 0.8182491064071655, 0.8192618489265442, 0.8133617043495178, 0.85633784532547, 0.8257632255554199, 0.8412851691246033, 0.8586790561676025, 0.8082855939865112, 0.79122394323349, 0.8402937054634094, 0.8258417248725891, 0.8085070848464966, 0.7663655281066895, 0.7931593060493469, 0.8329387903213501, 0.8413589596748352]\n"
          ]
        }
      ]
    },
    {
      "cell_type": "code",
      "source": [
        "emoji = ems[10]\n",
        "print(ems.index(emoji))\n",
        "similarity_scores = sims[emoji]\n",
        "for i, score in enumerate(similarity_scores):\n",
        "  print(i,score)"
      ],
      "metadata": {
        "colab": {
          "base_uri": "https://localhost:8080/"
        },
        "id": "h3f7raeXR_sn",
        "outputId": "e38d5a4f-8b17-4fc3-8043-3321b58e6fba"
      },
      "execution_count": 24,
      "outputs": [
        {
          "output_type": "stream",
          "name": "stdout",
          "text": [
            "10\n",
            "0 0.8150188326835632\n",
            "1 0.765936553478241\n",
            "2 0.7819159626960754\n",
            "3 0.7925803661346436\n",
            "4 0.7696778178215027\n",
            "5 0.7568070888519287\n",
            "6 0.7347339987754822\n",
            "7 0.8059822916984558\n",
            "8 0.8412520885467529\n",
            "9 0.7774506211280823\n",
            "10 1.0000001192092896\n",
            "11 0.7884711623191833\n",
            "12 0.7859060764312744\n",
            "13 0.7659201622009277\n",
            "14 0.7971696853637695\n",
            "15 0.7634138464927673\n",
            "16 0.7913884520530701\n",
            "17 0.7693322896957397\n",
            "18 0.8604493141174316\n",
            "19 0.7934174537658691\n",
            "20 0.7895188927650452\n",
            "21 0.795695424079895\n",
            "22 0.7792421579360962\n",
            "23 0.7698780298233032\n",
            "24 0.7848682999610901\n",
            "25 0.8711327910423279\n",
            "26 0.7869130373001099\n",
            "27 0.8018013834953308\n",
            "28 0.8652254343032837\n",
            "29 0.7553184628486633\n",
            "30 0.7618789672851562\n",
            "31 0.7862147688865662\n",
            "32 0.7983915209770203\n",
            "33 0.8638101816177368\n",
            "34 0.8698432445526123\n",
            "35 0.7947006821632385\n",
            "36 0.8011590242385864\n",
            "37 0.8613957166671753\n",
            "38 0.7633286118507385\n",
            "39 0.8175925612449646\n",
            "40 0.7600246667861938\n",
            "41 0.7780879139900208\n",
            "42 0.7991171479225159\n",
            "43 0.7973605394363403\n",
            "44 0.7983846664428711\n",
            "45 0.7668506503105164\n",
            "46 0.7844756841659546\n",
            "47 0.7947631478309631\n",
            "48 0.8569095134735107\n",
            "49 0.8838277459144592\n",
            "50 0.8220758438110352\n",
            "51 0.7865963578224182\n",
            "52 0.8092983961105347\n",
            "53 0.7864326238632202\n",
            "54 0.882131040096283\n",
            "55 0.8578736186027527\n",
            "56 0.8413234353065491\n",
            "57 0.8550669550895691\n",
            "58 0.8716729879379272\n",
            "59 0.7682890295982361\n",
            "60 0.7690749168395996\n",
            "61 0.8674088716506958\n",
            "62 0.8019793629646301\n"
          ]
        }
      ]
    },
    {
      "cell_type": "markdown",
      "source": [
        "# Encontrando emoji que é mais similar a cada emoji"
      ],
      "metadata": {
        "id": "N9EaLPmFrfnx"
      }
    },
    {
      "cell_type": "code",
      "source": [
        "\n",
        "\n",
        "import numpy as np\n",
        "\n",
        "def most_similar(dict_similarity, emoji, lista_emojis):\n",
        "\n",
        "  similarity_scores = dict_similarity[emoji]\n",
        "  pos = lista_emojis.index(emoji)\n",
        "\n",
        "  max_similarity = -np.inf\n",
        "  most_similar_emoji = None\n",
        "  #print(similarity_scores)\n",
        "  for i, score in enumerate(similarity_scores):\n",
        "    if i == pos:\n",
        "      continue\n",
        "    if score > max_similarity:\n",
        "      max_similarity = score\n",
        "      most_similar_emoji_index = i\n",
        "\n",
        "  keys_list = list(dict_similarity.keys())\n",
        "  most_similar_emoji = keys_list[most_similar_emoji_index]\n",
        "  return most_similar_emoji, max_similarity\n",
        "\n"
      ],
      "metadata": {
        "id": "n5QyFAp5qifd"
      },
      "execution_count": 25,
      "outputs": []
    },
    {
      "cell_type": "code",
      "source": [
        "# um exemplo\n",
        "emoji = list(sims.keys())[10]\n",
        "most_similar_emoji, similarity_score = most_similar(sims, emoji, ems)\n",
        "\n",
        "if most_similar_emoji:\n",
        "  print(f\"Mais similar a  {emoji} é {most_similar_emoji} com similaridade de {similarity_score:.4f}\")\n",
        "  print(f\"Mais similar a  {demojize(emoji, language='pt')} é {demojize(most_similar_emoji, language='pt')} com similaridade de {similarity_score:.4f}\")\n"
      ],
      "metadata": {
        "colab": {
          "base_uri": "https://localhost:8080/"
        },
        "id": "AG6-aA3SqyOa",
        "outputId": "4663a5e4-ec3d-4e40-d368-bbf953422d64"
      },
      "execution_count": 26,
      "outputs": [
        {
          "output_type": "stream",
          "name": "stdout",
          "text": [
            "Mais similar a  🫠 é 🤮 com similaridade de 0.8838\n",
            "Mais similar a  :rosto_derretendo: é :rosto_vomitando: com similaridade de 0.8838\n"
          ]
        }
      ]
    },
    {
      "cell_type": "markdown",
      "source": [
        "# Agora para todos"
      ],
      "metadata": {
        "id": "RYSBbIBHtK-G"
      }
    },
    {
      "cell_type": "code",
      "source": [
        "def print_similares(sims, ems):\n",
        "  emojis = list(sims.keys())\n",
        "  for emoji in emojis:\n",
        "    most_similar_emoji, similarity_score = most_similar(sims, emoji, ems)\n",
        "\n",
        "    if most_similar_emoji:\n",
        "      print(f\"Mais similar a  {emoji} é {most_similar_emoji} com similaridade de {similarity_score:.4f}\")\n",
        "      print(f\"Mais similar a  {demojize(emoji, language='pt')} é {demojize(most_similar_emoji, language='pt')} com similaridade de {similarity_score:.4f}\")\n"
      ],
      "metadata": {
        "id": "Jcy94XbztM1z"
      },
      "execution_count": 27,
      "outputs": []
    },
    {
      "cell_type": "code",
      "source": [
        "print_similares(sims, ems)"
      ],
      "metadata": {
        "colab": {
          "base_uri": "https://localhost:8080/"
        },
        "id": "fBqLSUxEtd-K",
        "outputId": "6a411609-6eb9-494e-b0f6-195728c2d576"
      },
      "execution_count": 28,
      "outputs": [
        {
          "output_type": "stream",
          "name": "stdout",
          "text": [
            "Mais similar a  😀 é 😄 com similaridade de 0.8825\n",
            "Mais similar a  :rosto_risonho: é :rosto_risonho_com_olhos_sorridentes: com similaridade de 0.8825\n",
            "Mais similar a  😃 é 😆 com similaridade de 0.9671\n",
            "Mais similar a  :rosto_risonho_com_olhos_bem_abertos: é :rosto_risonho_com_olhos_semicerrados: com similaridade de 0.9671\n",
            "Mais similar a  😄 é 😆 com similaridade de 0.9634\n",
            "Mais similar a  :rosto_risonho_com_olhos_sorridentes: é :rosto_risonho_com_olhos_semicerrados: com similaridade de 0.9634\n",
            "Mais similar a  😁 é 😙 com similaridade de 0.9757\n",
            "Mais similar a  :rosto_contente_com_olhos_sorridentes: é :rosto_beijando_com_olhos_sorridentes: com similaridade de 0.9757\n",
            "Mais similar a  😆 é 😃 com similaridade de 0.9671\n",
            "Mais similar a  :rosto_risonho_com_olhos_semicerrados: é :rosto_risonho_com_olhos_bem_abertos: com similaridade de 0.9671\n",
            "Mais similar a  😅 é 😆 com similaridade de 0.9533\n",
            "Mais similar a  :rosto_risonho_com_gota_de_suor: é :rosto_risonho_com_olhos_semicerrados: com similaridade de 0.9533\n",
            "Mais similar a  🤣 é 😂 com similaridade de 0.8906\n",
            "Mais similar a  :rolando_no_chão_de_rir: é :rosto_chorando_de_rir: com similaridade de 0.8906\n",
            "Mais similar a  😂 é 🤣 com similaridade de 0.8906\n",
            "Mais similar a  :rosto_chorando_de_rir: é :rolando_no_chão_de_rir: com similaridade de 0.8906\n",
            "Mais similar a  🙂 é 🥲 com similaridade de 0.8728\n",
            "Mais similar a  :rosto_levemente_sorridente: é :rosto_sorridente_com_lágrima: com similaridade de 0.8728\n",
            "Mais similar a  🙃 é 🥵 com similaridade de 0.9060\n",
            "Mais similar a  :rosto_de_cabeça_para_baixo: é :rosto_fervendo_de_calor: com similaridade de 0.9060\n",
            "Mais similar a  🫠 é 🤮 com similaridade de 0.8838\n",
            "Mais similar a  :rosto_derretendo: é :rosto_vomitando: com similaridade de 0.8838\n",
            "Mais similar a  😉 é 🫣 com similaridade de 0.9389\n",
            "Mais similar a  :rosto_com_olho_piscando: é :rosto_com_olho_espiando: com similaridade de 0.9389\n",
            "Mais similar a  😊 é 😙 com similaridade de 0.9785\n",
            "Mais similar a  :rosto_sorridente_com_olhos_sorridentes: é :rosto_beijando_com_olhos_sorridentes: com similaridade de 0.9785\n",
            "Mais similar a  😇 é 😊 com similaridade de 0.9312\n",
            "Mais similar a  :rosto_sorridente_com_auréola: é :rosto_sorridente_com_olhos_sorridentes: com similaridade de 0.9312\n",
            "Mais similar a  🥰 é 😊 com similaridade de 0.9224\n",
            "Mais similar a  :rosto_sorridente_com_3_corações: é :rosto_sorridente_com_olhos_sorridentes: com similaridade de 0.9224\n",
            "Mais similar a  😍 é 😊 com similaridade de 0.9430\n",
            "Mais similar a  :rosto_sorridente_com_olhos_de_coração: é :rosto_sorridente_com_olhos_sorridentes: com similaridade de 0.9430\n",
            "Mais similar a  🤩 é 🙄 com similaridade de 0.9070\n",
            "Mais similar a  :rosto_com_olhar_maravilhado: é :rosto_com_olhos_revirados: com similaridade de 0.9070\n",
            "Mais similar a  😘 é 😉 com similaridade de 0.8824\n",
            "Mais similar a  :rosto_mandando_um_beijo: é :rosto_com_olho_piscando: com similaridade de 0.8824\n",
            "Mais similar a  😗 é 😐 com similaridade de 0.8848\n",
            "Mais similar a  :rosto_beijando: é :rosto_neutro: com similaridade de 0.8848\n",
            "Mais similar a  😚 é 😙 com similaridade de 0.9450\n",
            "Mais similar a  :rosto_beijando_com_olhos_fechados: é :rosto_beijando_com_olhos_sorridentes: com similaridade de 0.9450\n",
            "Mais similar a  😙 é 😊 com similaridade de 0.9785\n",
            "Mais similar a  :rosto_beijando_com_olhos_sorridentes: é :rosto_sorridente_com_olhos_sorridentes: com similaridade de 0.9785\n",
            "Mais similar a  🥲 é 😇 com similaridade de 0.9249\n",
            "Mais similar a  :rosto_sorridente_com_lágrima: é :rosto_sorridente_com_auréola: com similaridade de 0.9249\n",
            "Mais similar a  😋 é 🫣 com similaridade de 0.8837\n",
            "Mais similar a  :rosto_saboreando_comida: é :rosto_com_olho_espiando: com similaridade de 0.8837\n",
            "Mais similar a  😛 é 😘 com similaridade de 0.8561\n",
            "Mais similar a  :rosto_mostrando_a_língua: é :rosto_mandando_um_beijo: com similaridade de 0.8561\n",
            "Mais similar a  😜 é 😝 com similaridade de 0.9592\n",
            "Mais similar a  :rosto_piscando_e_com_língua_para_fora: é :rosto_com_olhos_semicerrados_e_língua_para_fora: com similaridade de 0.9592\n",
            "Mais similar a  🤪 é 😔 com similaridade de 0.8795\n",
            "Mais similar a  :rosto_bizarro: é :rosto_deprimido: com similaridade de 0.8795\n",
            "Mais similar a  😝 é 😜 com similaridade de 0.9592\n",
            "Mais similar a  :rosto_com_olhos_semicerrados_e_língua_para_fora: é :rosto_piscando_e_com_língua_para_fora: com similaridade de 0.9592\n",
            "Mais similar a  🤑 é 😏 com similaridade de 0.9066\n",
            "Mais similar a  :rosto_com_cifrões: é :rosto_com_sorriso_maroto: com similaridade de 0.9066\n",
            "Mais similar a  🤗 é 😔 com similaridade de 0.8686\n",
            "Mais similar a  :rosto_abraçando: é :rosto_deprimido: com similaridade de 0.8686\n",
            "Mais similar a  🤭 é 🫢 com similaridade de 0.9562\n",
            "Mais similar a  :rosto_com_a_mão_sobre_a_boca: é :rosto_com_olhos_abertos_e_mão_sobre_a_boca: com similaridade de 0.9562\n",
            "Mais similar a  🫢 é 🤭 com similaridade de 0.9562\n",
            "Mais similar a  :rosto_com_olhos_abertos_e_mão_sobre_a_boca: é :rosto_com_a_mão_sobre_a_boca: com similaridade de 0.9562\n",
            "Mais similar a  🫣 é 😉 com similaridade de 0.9389\n",
            "Mais similar a  :rosto_com_olho_espiando: é :rosto_com_olho_piscando: com similaridade de 0.9389\n",
            "Mais similar a  🤫 é 🤐 com similaridade de 0.9088\n",
            "Mais similar a  :rosto_fazendo_sinal_de_silêncio: é :rosto_com_boca_de_zíper: com similaridade de 0.9088\n",
            "Mais similar a  🤔 é 🤮 com similaridade de 0.8914\n",
            "Mais similar a  :rosto_pensativo: é :rosto_vomitando: com similaridade de 0.8914\n",
            "Mais similar a  🫡 é 😪 com similaridade de 0.8706\n",
            "Mais similar a  :rosto_saudando: é :rosto_sonolento: com similaridade de 0.8706\n",
            "Mais similar a  🤐 é 😮‍💨 com similaridade de 0.9351\n",
            "Mais similar a  :rosto_com_boca_de_zíper: é :rosto_exalando: com similaridade de 0.9351\n",
            "Mais similar a  🤨 é 😉 com similaridade de 0.9148\n",
            "Mais similar a  :rosto_com_sobrancelha_levantada: é :rosto_com_olho_piscando: com similaridade de 0.9148\n",
            "Mais similar a  😐 é 🤮 com similaridade de 0.8869\n",
            "Mais similar a  :rosto_neutro: é :rosto_vomitando: com similaridade de 0.8869\n",
            "Mais similar a  😑 é 😬 com similaridade de 0.8891\n",
            "Mais similar a  :rosto_inexpressivo: é :rosto_expressando_desagrado: com similaridade de 0.8891\n",
            "Mais similar a  😶 é 😶‍🌫️ com similaridade de 0.9056\n",
            "Mais similar a  :rosto_sem_boca: é :rosto_nas_nuvens: com similaridade de 0.9056\n",
            "Mais similar a  🫥 é 😄 com similaridade de 0.9156\n",
            "Mais similar a  :rosto_com_linha_pontilhada: é :rosto_risonho_com_olhos_sorridentes: com similaridade de 0.9156\n",
            "Mais similar a  😶‍🌫️ é 🤐 com similaridade de 0.9140\n",
            "Mais similar a  :rosto_nas_nuvens: é :rosto_com_boca_de_zíper: com similaridade de 0.9140\n",
            "Mais similar a  😏 é 😷 com similaridade de 0.9217\n",
            "Mais similar a  :rosto_com_sorriso_maroto: é :rosto_com_máscara_médica: com similaridade de 0.9217\n",
            "Mais similar a  😒 é 🙂 com similaridade de 0.8604\n",
            "Mais similar a  :rosto_aborrecido: é :rosto_levemente_sorridente: com similaridade de 0.8604\n",
            "Mais similar a  🙄 é 😚 com similaridade de 0.9405\n",
            "Mais similar a  :rosto_com_olhos_revirados: é :rosto_beijando_com_olhos_fechados: com similaridade de 0.9405\n",
            "Mais similar a  😬 é 🫣 com similaridade de 0.9036\n",
            "Mais similar a  :rosto_expressando_desagrado: é :rosto_com_olho_espiando: com similaridade de 0.9036\n",
            "Mais similar a  😮‍💨 é 🤐 com similaridade de 0.9351\n",
            "Mais similar a  :rosto_exalando: é :rosto_com_boca_de_zíper: com similaridade de 0.9351\n",
            "Mais similar a  🥵 é 🤫 com similaridade de 0.9085\n",
            "Mais similar a  :rosto_fervendo_de_calor: é :rosto_fazendo_sinal_de_silêncio: com similaridade de 0.9085\n",
            "Mais similar a  🤧 é 🤮 com similaridade de 0.8935\n",
            "Mais similar a  :rosto_espirrando: é :rosto_vomitando: com similaridade de 0.8935\n",
            "Mais similar a  🤮 é 😌 com similaridade de 0.9044\n",
            "Mais similar a  :rosto_vomitando: é :rosto_aliviado: com similaridade de 0.9044\n",
            "Mais similar a  🤢 é 🤥 com similaridade de 0.8918\n",
            "Mais similar a  :rosto_nauseado: é :rosto_de_mentiroso: com similaridade de 0.8918\n",
            "Mais similar a  🤕 é 🙄 com similaridade de 0.9175\n",
            "Mais similar a  :rosto_com_atadura_na_cabeça: é :rosto_com_olhos_revirados: com similaridade de 0.9175\n",
            "Mais similar a  🤒 é 😷 com similaridade de 0.9146\n",
            "Mais similar a  :rosto_com_termômetro: é :rosto_com_máscara_médica: com similaridade de 0.9146\n",
            "Mais similar a  😷 é 😏 com similaridade de 0.9217\n",
            "Mais similar a  :rosto_com_máscara_médica: é :rosto_com_sorriso_maroto: com similaridade de 0.9217\n",
            "Mais similar a  😴 é 🤮 com similaridade de 0.8874\n",
            "Mais similar a  :rosto_dormindo: é :rosto_vomitando: com similaridade de 0.8874\n",
            "Mais similar a  🤤 é 🫨 com similaridade de 0.8845\n",
            "Mais similar a  :rosto_babando: é :rosto_tremendo: com similaridade de 0.8845\n",
            "Mais similar a  😪 é 🤢 com similaridade de 0.8709\n",
            "Mais similar a  :rosto_sonolento: é :rosto_nauseado: com similaridade de 0.8709\n",
            "Mais similar a  😔 é 🤮 com similaridade de 0.8803\n",
            "Mais similar a  :rosto_deprimido: é :rosto_vomitando: com similaridade de 0.8803\n",
            "Mais similar a  😌 é 🤮 com similaridade de 0.9044\n",
            "Mais similar a  :rosto_aliviado: é :rosto_vomitando: com similaridade de 0.9044\n",
            "Mais similar a  🙂‍↕️ é 🙂‍↔️ com similaridade de 0.9644\n",
            "Mais similar a  :cabeça_balançando_na_vertical: é :cabeça_virando_de_um_lado_para_o_outro: com similaridade de 0.9644\n",
            "Mais similar a  🙂‍↔️ é 🙂‍↕️ com similaridade de 0.9644\n",
            "Mais similar a  :cabeça_virando_de_um_lado_para_o_outro: é :cabeça_balançando_na_vertical: com similaridade de 0.9644\n",
            "Mais similar a  🫨 é 🤤 com similaridade de 0.8845\n",
            "Mais similar a  :rosto_tremendo: é :rosto_babando: com similaridade de 0.8845\n",
            "Mais similar a  🤥 é 🤢 com similaridade de 0.8918\n",
            "Mais similar a  :rosto_de_mentiroso: é :rosto_nauseado: com similaridade de 0.8918\n"
          ]
        }
      ]
    },
    {
      "cell_type": "markdown",
      "source": [
        "# **Sua tarefa: considerar o modelo do Bertimbau e comparar os mais similares do BertweetBR com os mais similares do Bertimbau, complentando as células abaixo **"
      ],
      "metadata": {
        "id": "uKB3jUpxrzo4"
      }
    },
    {
      "cell_type": "code",
      "source": [
        "bertimbau_model = 'neuralmind/bert-base-portuguese-cased'"
      ],
      "metadata": {
        "id": "PosHw1tWqdF2"
      },
      "execution_count": 29,
      "outputs": []
    },
    {
      "cell_type": "code",
      "source": [
        "from transformers import AutoTokenizer  # Or BertTokenizer\n",
        "from transformers import AutoModelForPreTraining  # Or BertForPreTraining for loading pretraining heads\n",
        "from transformers import AutoModel  # or BertModel, for BERT without pretraining heads\n",
        "\n",
        "# AutoModelForPreTraining carrega o modelo BERT para pré-treinamento\n",
        "model_bertimbau = AutoModelForPreTraining.from_pretrained(bertimbau_model)\n",
        "tokenizer_bertimbau = AutoTokenizer.from_pretrained(bertimbau_model, do_lower_case=False)\n"
      ],
      "metadata": {
        "id": "HlmKNXaPTSU_"
      },
      "execution_count": 34,
      "outputs": []
    },
    {
      "cell_type": "code",
      "source": [
        "# Verificando as configurações\n",
        "config_normal = model_bertimbau.config\n",
        "model_normal = model_bertimbau\n",
        "tokenizer_normal = tokenizer_bertimbau"
      ],
      "metadata": {
        "id": "tcjXqkyqrwj6"
      },
      "execution_count": 35,
      "outputs": []
    },
    {
      "cell_type": "code",
      "source": [
        "[tokens = [tokenizer_tweets.convert_ids_to_tokens(element['input_ids'][0]) for element in tokens_emojis]\n",
        "print(tokens)\n"
      ],
      "metadata": {
        "colab": {
          "base_uri": "https://localhost:8080/"
        },
        "id": "uFiPmdXJYdD9",
        "outputId": "609ddd5b-aa45-46b2-9b1e-1ee7214fdce1"
      },
      "execution_count": 36,
      "outputs": [
        {
          "output_type": "stream",
          "name": "stdout",
          "text": [
            "[['rosto', 'ris@@', 'onho'], ['rosto', 'ris@@', 'onho', 'com', 'olhos', 'bem', 'abertos'], ['rosto', 'ris@@', 'onho', 'com', 'olhos', 'sorrident@@', 'es'], ['rosto', 'contente', 'com', 'olhos', 'sorrident@@', 'es'], ['rosto', 'ris@@', 'onho', 'com', 'olhos', '<unk>', 'dos'], ['rosto', 'ris@@', 'onho', 'com', 'gota', 'de', 'suor'], ['rolando', 'no', 'chão', 'de', 'rir'], ['rosto', 'chorando', 'de', 'rir'], ['rosto', 'levemente', 'sorridente'], ['rosto', 'de', 'cabeça', 'para', 'baixo'], ['rosto', 'derretendo'], ['rosto', 'com', 'olho', 'piscando'], ['rosto', 'sorridente', 'com', 'olhos', 'sorrident@@', 'es'], ['rosto', 'sorridente', 'com', 'auré@@', 'ola'], ['rosto', 'sorridente', 'com', '3', 'corações'], ['rosto', 'sorridente', 'com', 'olhos', 'de', 'coração'], ['rosto', 'com', 'olhar', 'maravilh@@', 'ado'], ['rosto', 'mandando', 'um', 'beijo'], ['rosto', 'beijando'], ['rosto', 'beijando', 'com', 'olhos', 'fechados'], ['rosto', 'beijando', 'com', 'olhos', 'sorrident@@', 'es'], ['rosto', 'sorridente', 'com', 'lágrima'], ['rosto', 'sabore@@', 'ando', 'comida'], ['rosto', 'mostrando', 'a', 'língua'], ['rosto', 'piscando', 'e', 'com', 'língua', 'para', 'fora'], ['rosto', 'bizarro'], ['rosto', 'com', 'olhos', '<unk>', 'dos', 'e', 'língua', 'para', 'fora'], ['rosto', 'com', 'cifr@@', 'ões'], ['rosto', 'abraçando'], ['rosto', 'com', 'a', 'mão', 'sobre', 'a', 'boca'], ['rosto', 'com', 'olhos', 'abertos', 'e', 'mão', 'sobre', 'a', 'boca'], ['rosto', 'com', 'olho', 'espi@@', 'ando'], ['rosto', 'fazendo', 'sinal', 'de', 'silêncio'], ['rosto', 'pensativo'], ['rosto', 'sau@@', 'dando'], ['rosto', 'com', 'boca', 'de', 'zíper'], ['rosto', 'com', 'sobrancelha', 'levantada'], ['rosto', 'neutro'], ['rosto', 'in@@', 'express@@', 'ivo'], ['rosto', 'sem', 'boca'], ['rosto', 'com', 'linha', 'pon@@', 'ti@@', 'lh@@', 'ada'], ['rosto', 'sem', 'boca', 'ne@@', 'voeiro'], ['rosto', 'com', 'sorriso', 'maroto'], ['rosto', 'aborreci@@', 'do'], ['rosto', 'com', 'olhos', 'revira@@', 'dos'], ['rosto', 'express@@', 'ando', 'desagra@@', 'do'], ['rosto', 'com', 'boca', 'aberta', 'rapidez'], ['rosto', 'fervendo', 'de', 'calor'], ['rosto', 'espirrando'], ['rosto', 'vomitando'], ['rosto', 'nause@@', 'ado'], ['rosto', 'com', 'ata@@', 'dura', 'na', 'cabeça'], ['rosto', 'com', 'termô@@', 'metro'], ['rosto', 'com', 'máscara', 'médica'], ['rosto', 'dormindo'], ['rosto', 'babando'], ['rosto', 'sonol@@', 'ento'], ['rosto', 'deprimido'], ['rosto', 'aliviado'], ['rosto', 'levemente', 'sorridente', 'seta', 'para', 'cima', 'e', 'para', 'baixo'], ['rosto', 'levemente', 'sorridente', 'seta', 'para', 'esquerda', 'e', 'direita'], ['rosto', 'tremendo'], ['rosto', 'de', 'mentiroso']]\n"
          ]
        }
      ]
    },
    {
      "cell_type": "code",
      "source": [
        "# Tokenizar os emojis para o BERTimbau\n",
        "tokens_emojis_bertimbau = [tokenizer_bertimbau(element, return_tensors=\"pt\", padding=False, add_special_tokens=False) for element in lista_emojis_clean]\n"
      ],
      "metadata": {
        "id": "U1LxWZYMuiRv"
      },
      "execution_count": 38,
      "outputs": []
    },
    {
      "cell_type": "code",
      "source": [
        "# Verificar os tokens\n",
        "tokens_bertimbau = [tokenizer_bertimbau.convert_ids_to_tokens(element['input_ids'][0]) for element in tokens_emojis_bertimbau]\n",
        "print(tokens_bertimbau)  # seu codigo aqui"
      ],
      "metadata": {
        "id": "oIihalDFuzBp",
        "colab": {
          "base_uri": "https://localhost:8080/"
        },
        "outputId": "5be83360-b531-467f-80fa-d2ff8558558a"
      },
      "execution_count": 39,
      "outputs": [
        {
          "output_type": "stream",
          "name": "stdout",
          "text": [
            "[['rosto', 'ris', '##on', '##ho'], ['rosto', 'ris', '##on', '##ho', 'com', 'olhos', 'bem', 'abertos'], ['rosto', 'ris', '##on', '##ho', 'com', 'olhos', 'sor', '##rid', '##entes'], ['rosto', 'conte', '##nte', 'com', 'olhos', 'sor', '##rid', '##entes'], ['rosto', 'ris', '##on', '##ho', 'com', 'olhos', 'semi', '##cer', '##rados'], ['rosto', 'ris', '##on', '##ho', 'com', 'go', '##ta', 'de', 'su', '##or'], ['ro', '##lando', 'no', 'chão', 'de', 'ri', '##r'], ['rosto', 'cho', '##rando', 'de', 'ri', '##r'], ['rosto', 'levemente', 'sor', '##rid', '##ente'], ['rosto', 'de', 'cabeça', 'para', 'baixo'], ['rosto', 'der', '##rete', '##ndo'], ['rosto', 'com', 'olho', 'pisc', '##ando'], ['rosto', 'sor', '##rid', '##ente', 'com', 'olhos', 'sor', '##rid', '##entes'], ['rosto', 'sor', '##rid', '##ente', 'com', 'au', '##ré', '##ola'], ['rosto', 'sor', '##rid', '##ente', 'com', '3', 'cora', '##ções'], ['rosto', 'sor', '##rid', '##ente', 'com', 'olhos', 'de', 'coração'], ['rosto', 'com', 'olhar', 'marav', '##ilha', '##do'], ['rosto', 'manda', '##ndo', 'um', 'bei', '##jo'], ['rosto', 'bei', '##jando'], ['rosto', 'bei', '##jando', 'com', 'olhos', 'fechados'], ['rosto', 'bei', '##jando', 'com', 'olhos', 'sor', '##rid', '##entes'], ['rosto', 'sor', '##rid', '##ente', 'com', 'lá', '##gri', '##ma'], ['rosto', 'sabor', '##e', '##ando', 'comida'], ['rosto', 'mostrando', 'a', 'língua'], ['rosto', 'pisc', '##ando', 'e', 'com', 'língua', 'para', 'fora'], ['rosto', 'bi', '##zar', '##ro'], ['rosto', 'com', 'olhos', 'semi', '##cer', '##rados', 'e', 'língua', 'para', 'fora'], ['rosto', 'com', 'cif', '##rões'], ['rosto', 'abra', '##çando'], ['rosto', 'com', 'a', 'mão', 'sobre', 'a', 'boca'], ['rosto', 'com', 'olhos', 'abertos', 'e', 'mão', 'sobre', 'a', 'boca'], ['rosto', 'com', 'olho', 'esp', '##iando'], ['rosto', 'fazendo', 'sinal', 'de', 'silêncio'], ['rosto', 'pensa', '##tivo'], ['rosto', 'saud', '##ando'], ['rosto', 'com', 'boca', 'de', 'z', '##íp', '##er'], ['rosto', 'com', 'sob', '##ranc', '##elh', '##a', 'leva', '##ntada'], ['rosto', 'neutro'], ['rosto', 'inex', '##press', '##ivo'], ['rosto', 'sem', 'boca'], ['rosto', 'com', 'linha', 'pont', '##ilha', '##da'], ['rosto', 'sem', 'boca', 'ne', '##vo', '##eiro'], ['rosto', 'com', 'sor', '##riso', 'mar', '##ot', '##o'], ['rosto', 'abor', '##rec', '##ido'], ['rosto', 'com', 'olhos', 'rev', '##ira', '##dos'], ['rosto', 'expressa', '##ndo', 'desag', '##rado'], ['rosto', 'com', 'boca', 'aberta', 'rap', '##idez'], ['rosto', 'fer', '##vendo', 'de', 'calor'], ['rosto', 'esp', '##ir', '##rando'], ['rosto', 'vo', '##mit', '##ando'], ['rosto', 'nau', '##sea', '##do'], ['rosto', 'com', 'ata', '##dura', 'na', 'cabeça'], ['rosto', 'com', 'ter', '##m', '##ômetro'], ['rosto', 'com', 'máscara', 'médica'], ['rosto', 'dor', '##mindo'], ['rosto', 'ba', '##bando'], ['rosto', 'sono', '##len', '##to'], ['rosto', 'dep', '##rim', '##ido'], ['rosto', 'aliv', '##iado'], ['rosto', 'levemente', 'sor', '##rid', '##ente', 'set', '##a', 'para', 'cima', 'e', 'para', 'baixo'], ['rosto', 'levemente', 'sor', '##rid', '##ente', 'set', '##a', 'para', 'esquerda', 'e', 'direita'], ['rosto', 'trem', '##endo'], ['rosto', 'de', 'ment', '##iros', '##o']]\n"
          ]
        }
      ]
    },
    {
      "cell_type": "code",
      "source": [
        "sims_berttweet = sims\n",
        "# Gerar os tensores para o BERTimbau\n",
        "tensores_bertimbau = get_tensors(model_bertimbau, tokens_emojis_bertimbau)\n",
        "# Calcular similaridades usando os tensores do BERTimbau\n",
        "sims_bertimbau = similaridades(tensores_bertimbau)\n"
      ],
      "metadata": {
        "id": "wDZi76YluIR0"
      },
      "execution_count": 41,
      "outputs": []
    },
    {
      "cell_type": "code",
      "source": [
        "print_similares(sims_bertimbau, ems)"
      ],
      "metadata": {
        "id": "9N1-Itu7v1U0",
        "colab": {
          "base_uri": "https://localhost:8080/"
        },
        "outputId": "cac74334-5bd9-4325-d41a-6e1a8a3e2367"
      },
      "execution_count": 42,
      "outputs": [
        {
          "output_type": "stream",
          "name": "stdout",
          "text": [
            "Mais similar a  😀 é 😄 com similaridade de 0.9865\n",
            "Mais similar a  :rosto_risonho: é :rosto_risonho_com_olhos_sorridentes: com similaridade de 0.9865\n",
            "Mais similar a  😃 é 😄 com similaridade de 0.9923\n",
            "Mais similar a  :rosto_risonho_com_olhos_bem_abertos: é :rosto_risonho_com_olhos_sorridentes: com similaridade de 0.9923\n",
            "Mais similar a  😄 é 😃 com similaridade de 0.9923\n",
            "Mais similar a  :rosto_risonho_com_olhos_sorridentes: é :rosto_risonho_com_olhos_bem_abertos: com similaridade de 0.9923\n",
            "Mais similar a  😁 é 😊 com similaridade de 0.9934\n",
            "Mais similar a  :rosto_contente_com_olhos_sorridentes: é :rosto_sorridente_com_olhos_sorridentes: com similaridade de 0.9934\n",
            "Mais similar a  😆 é 😃 com similaridade de 0.9919\n",
            "Mais similar a  :rosto_risonho_com_olhos_semicerrados: é :rosto_risonho_com_olhos_bem_abertos: com similaridade de 0.9919\n",
            "Mais similar a  😅 é 😏 com similaridade de 0.9860\n",
            "Mais similar a  :rosto_risonho_com_gota_de_suor: é :rosto_com_sorriso_maroto: com similaridade de 0.9860\n",
            "Mais similar a  🤣 é 😂 com similaridade de 0.9860\n",
            "Mais similar a  :rolando_no_chão_de_rir: é :rosto_chorando_de_rir: com similaridade de 0.9860\n",
            "Mais similar a  😂 é 🤣 com similaridade de 0.9860\n",
            "Mais similar a  :rosto_chorando_de_rir: é :rolando_no_chão_de_rir: com similaridade de 0.9860\n",
            "Mais similar a  🙂 é 😇 com similaridade de 0.9812\n",
            "Mais similar a  :rosto_levemente_sorridente: é :rosto_sorridente_com_auréola: com similaridade de 0.9812\n",
            "Mais similar a  🙃 é 🙂‍↕️ com similaridade de 0.9791\n",
            "Mais similar a  :rosto_de_cabeça_para_baixo: é :cabeça_balançando_na_vertical: com similaridade de 0.9791\n",
            "Mais similar a  🫠 é 🥵 com similaridade de 0.9777\n",
            "Mais similar a  :rosto_derretendo: é :rosto_fervendo_de_calor: com similaridade de 0.9777\n",
            "Mais similar a  😉 é 🫣 com similaridade de 0.9876\n",
            "Mais similar a  :rosto_com_olho_piscando: é :rosto_com_olho_espiando: com similaridade de 0.9876\n",
            "Mais similar a  😊 é 😁 com similaridade de 0.9934\n",
            "Mais similar a  :rosto_sorridente_com_olhos_sorridentes: é :rosto_contente_com_olhos_sorridentes: com similaridade de 0.9934\n",
            "Mais similar a  😇 é 😍 com similaridade de 0.9875\n",
            "Mais similar a  :rosto_sorridente_com_auréola: é :rosto_sorridente_com_olhos_de_coração: com similaridade de 0.9875\n",
            "Mais similar a  🥰 é 😍 com similaridade de 0.9915\n",
            "Mais similar a  :rosto_sorridente_com_3_corações: é :rosto_sorridente_com_olhos_de_coração: com similaridade de 0.9915\n",
            "Mais similar a  😍 é 🥰 com similaridade de 0.9915\n",
            "Mais similar a  :rosto_sorridente_com_olhos_de_coração: é :rosto_sorridente_com_3_corações: com similaridade de 0.9915\n",
            "Mais similar a  🤩 é 😏 com similaridade de 0.9812\n",
            "Mais similar a  :rosto_com_olhar_maravilhado: é :rosto_com_sorriso_maroto: com similaridade de 0.9812\n",
            "Mais similar a  😘 é 😗 com similaridade de 0.9813\n",
            "Mais similar a  :rosto_mandando_um_beijo: é :rosto_beijando: com similaridade de 0.9813\n",
            "Mais similar a  😗 é 😘 com similaridade de 0.9813\n",
            "Mais similar a  :rosto_beijando: é :rosto_mandando_um_beijo: com similaridade de 0.9813\n",
            "Mais similar a  😚 é 😙 com similaridade de 0.9874\n",
            "Mais similar a  :rosto_beijando_com_olhos_fechados: é :rosto_beijando_com_olhos_sorridentes: com similaridade de 0.9874\n",
            "Mais similar a  😙 é 😄 com similaridade de 0.9915\n",
            "Mais similar a  :rosto_beijando_com_olhos_sorridentes: é :rosto_risonho_com_olhos_sorridentes: com similaridade de 0.9915\n",
            "Mais similar a  🥲 é 😍 com similaridade de 0.9901\n",
            "Mais similar a  :rosto_sorridente_com_lágrima: é :rosto_sorridente_com_olhos_de_coração: com similaridade de 0.9901\n",
            "Mais similar a  😋 é 😅 com similaridade de 0.9756\n",
            "Mais similar a  :rosto_saboreando_comida: é :rosto_risonho_com_gota_de_suor: com similaridade de 0.9756\n",
            "Mais similar a  😛 é 🤭 com similaridade de 0.9776\n",
            "Mais similar a  :rosto_mostrando_a_língua: é :rosto_com_a_mão_sobre_a_boca: com similaridade de 0.9776\n",
            "Mais similar a  😜 é 🙂‍↕️ com similaridade de 0.9877\n",
            "Mais similar a  :rosto_piscando_e_com_língua_para_fora: é :cabeça_balançando_na_vertical: com similaridade de 0.9877\n",
            "Mais similar a  🤪 é 😏 com similaridade de 0.9722\n",
            "Mais similar a  :rosto_bizarro: é :rosto_com_sorriso_maroto: com similaridade de 0.9722\n",
            "Mais similar a  😝 é 🫢 com similaridade de 0.9913\n",
            "Mais similar a  :rosto_com_olhos_semicerrados_e_língua_para_fora: é :rosto_com_olhos_abertos_e_mão_sobre_a_boca: com similaridade de 0.9913\n",
            "Mais similar a  🤑 é 🤒 com similaridade de 0.9656\n",
            "Mais similar a  :rosto_com_cifrões: é :rosto_com_termômetro: com similaridade de 0.9656\n",
            "Mais similar a  🤗 é 😗 com similaridade de 0.9784\n",
            "Mais similar a  :rosto_abraçando: é :rosto_beijando: com similaridade de 0.9784\n",
            "Mais similar a  🤭 é 🫢 com similaridade de 0.9919\n",
            "Mais similar a  :rosto_com_a_mão_sobre_a_boca: é :rosto_com_olhos_abertos_e_mão_sobre_a_boca: com similaridade de 0.9919\n",
            "Mais similar a  🫢 é 🤭 com similaridade de 0.9919\n",
            "Mais similar a  :rosto_com_olhos_abertos_e_mão_sobre_a_boca: é :rosto_com_a_mão_sobre_a_boca: com similaridade de 0.9919\n",
            "Mais similar a  🫣 é 😉 com similaridade de 0.9876\n",
            "Mais similar a  :rosto_com_olho_espiando: é :rosto_com_olho_piscando: com similaridade de 0.9876\n",
            "Mais similar a  🤫 é 😉 com similaridade de 0.9753\n",
            "Mais similar a  :rosto_fazendo_sinal_de_silêncio: é :rosto_com_olho_piscando: com similaridade de 0.9753\n",
            "Mais similar a  🤔 é 😪 com similaridade de 0.9709\n",
            "Mais similar a  :rosto_pensativo: é :rosto_sonolento: com similaridade de 0.9709\n",
            "Mais similar a  🫡 é 😋 com similaridade de 0.9745\n",
            "Mais similar a  :rosto_saudando: é :rosto_saboreando_comida: com similaridade de 0.9745\n",
            "Mais similar a  🤐 é 😏 com similaridade de 0.9742\n",
            "Mais similar a  :rosto_com_boca_de_zíper: é :rosto_com_sorriso_maroto: com similaridade de 0.9742\n",
            "Mais similar a  🤨 é 😇 com similaridade de 0.9786\n",
            "Mais similar a  :rosto_com_sobrancelha_levantada: é :rosto_sorridente_com_auréola: com similaridade de 0.9786\n",
            "Mais similar a  😐 é 🤔 com similaridade de 0.9523\n",
            "Mais similar a  :rosto_neutro: é :rosto_pensativo: com similaridade de 0.9523\n",
            "Mais similar a  😑 é 😔 com similaridade de 0.9680\n",
            "Mais similar a  :rosto_inexpressivo: é :rosto_deprimido: com similaridade de 0.9680\n",
            "Mais similar a  😶 é 😮‍💨 com similaridade de 0.9717\n",
            "Mais similar a  :rosto_sem_boca: é :rosto_exalando: com similaridade de 0.9717\n",
            "Mais similar a  🫥 é 🤕 com similaridade de 0.9735\n",
            "Mais similar a  :rosto_com_linha_pontilhada: é :rosto_com_atadura_na_cabeça: com similaridade de 0.9735\n",
            "Mais similar a  😶‍🌫️ é 😅 com similaridade de 0.9754\n",
            "Mais similar a  :rosto_nas_nuvens: é :rosto_risonho_com_gota_de_suor: com similaridade de 0.9754\n",
            "Mais similar a  😏 é 😄 com similaridade de 0.9873\n",
            "Mais similar a  :rosto_com_sorriso_maroto: é :rosto_risonho_com_olhos_sorridentes: com similaridade de 0.9873\n",
            "Mais similar a  😒 é 😔 com similaridade de 0.9802\n",
            "Mais similar a  :rosto_aborrecido: é :rosto_deprimido: com similaridade de 0.9802\n",
            "Mais similar a  🙄 é 😝 com similaridade de 0.9861\n",
            "Mais similar a  :rosto_com_olhos_revirados: é :rosto_com_olhos_semicerrados_e_língua_para_fora: com similaridade de 0.9861\n",
            "Mais similar a  😬 é 🤢 com similaridade de 0.9559\n",
            "Mais similar a  :rosto_expressando_desagrado: é :rosto_nauseado: com similaridade de 0.9559\n",
            "Mais similar a  😮‍💨 é 🫢 com similaridade de 0.9758\n",
            "Mais similar a  :rosto_exalando: é :rosto_com_olhos_abertos_e_mão_sobre_a_boca: com similaridade de 0.9758\n",
            "Mais similar a  🥵 é 🫠 com similaridade de 0.9777\n",
            "Mais similar a  :rosto_fervendo_de_calor: é :rosto_derretendo: com similaridade de 0.9777\n",
            "Mais similar a  🤧 é 🤮 com similaridade de 0.9787\n",
            "Mais similar a  :rosto_espirrando: é :rosto_vomitando: com similaridade de 0.9787\n",
            "Mais similar a  🤮 é 🤧 com similaridade de 0.9787\n",
            "Mais similar a  :rosto_vomitando: é :rosto_espirrando: com similaridade de 0.9787\n",
            "Mais similar a  🤢 é 😪 com similaridade de 0.9779\n",
            "Mais similar a  :rosto_nauseado: é :rosto_sonolento: com similaridade de 0.9779\n",
            "Mais similar a  🤕 é 🤭 com similaridade de 0.9778\n",
            "Mais similar a  :rosto_com_atadura_na_cabeça: é :rosto_com_a_mão_sobre_a_boca: com similaridade de 0.9778\n",
            "Mais similar a  🤒 é 😅 com similaridade de 0.9773\n",
            "Mais similar a  :rosto_com_termômetro: é :rosto_risonho_com_gota_de_suor: com similaridade de 0.9773\n",
            "Mais similar a  😷 é 🤕 com similaridade de 0.9724\n",
            "Mais similar a  :rosto_com_máscara_médica: é :rosto_com_atadura_na_cabeça: com similaridade de 0.9724\n",
            "Mais similar a  😴 é 😪 com similaridade de 0.9739\n",
            "Mais similar a  :rosto_dormindo: é :rosto_sonolento: com similaridade de 0.9739\n",
            "Mais similar a  🤤 é 😗 com similaridade de 0.9663\n",
            "Mais similar a  :rosto_babando: é :rosto_beijando: com similaridade de 0.9663\n",
            "Mais similar a  😪 é 🤢 com similaridade de 0.9779\n",
            "Mais similar a  :rosto_sonolento: é :rosto_nauseado: com similaridade de 0.9779\n",
            "Mais similar a  😔 é 😒 com similaridade de 0.9802\n",
            "Mais similar a  :rosto_deprimido: é :rosto_aborrecido: com similaridade de 0.9802\n",
            "Mais similar a  😌 é 😔 com similaridade de 0.9739\n",
            "Mais similar a  :rosto_aliviado: é :rosto_deprimido: com similaridade de 0.9739\n",
            "Mais similar a  🙂‍↕️ é 🙂‍↔️ com similaridade de 0.9975\n",
            "Mais similar a  :cabeça_balançando_na_vertical: é :cabeça_virando_de_um_lado_para_o_outro: com similaridade de 0.9975\n",
            "Mais similar a  🙂‍↔️ é 🙂‍↕️ com similaridade de 0.9975\n",
            "Mais similar a  :cabeça_virando_de_um_lado_para_o_outro: é :cabeça_balançando_na_vertical: com similaridade de 0.9975\n",
            "Mais similar a  🫨 é 🥵 com similaridade de 0.9757\n",
            "Mais similar a  :rosto_tremendo: é :rosto_fervendo_de_calor: com similaridade de 0.9757\n",
            "Mais similar a  🤥 é 😏 com similaridade de 0.9762\n",
            "Mais similar a  :rosto_de_mentiroso: é :rosto_com_sorriso_maroto: com similaridade de 0.9762\n"
          ]
        }
      ]
    },
    {
      "cell_type": "code",
      "source": [
        "def comparar_similares(sims_berttweet, sims_bertimbau, ems):\n",
        "  emojis = list(sims.keys())\n",
        "  for emoji in emojis:\n",
        "    most_similar_emoji1, sim_score1 = most_similar(sims_berttweet, emoji, ems)\n",
        "    most_similar_emoji2, sim_score2 = most_similar(sims_bertimbau, emoji, ems)\n",
        "\n",
        "    if most_similar_emoji1 and most_similar_emoji2:\n",
        "\n",
        "\n",
        "      if most_similar_emoji1 == most_similar_emoji2:\n",
        "        print(f\"Mais similar a  {emoji} em ambos é {most_similar_emoji1} com diferença de similaridade de {sim_score1:.4f} e {sim_score2:.4f}\")\n",
        "      else:\n",
        "        print(f\"Mais similar a  {emoji} no BERTweetBR é {most_similar_emoji1} com similaridade de {sim_score1:.4f}\")\n",
        "        print(f\"Mais similar a  {emoji} no BERTimbau é {most_similar_emoji2} com similaridade de {sim_score2:.4f}\")\n",
        "\n",
        "\n",
        "\n",
        "    if not most_similar_emoji2:\n",
        "      print(f\"Não tem representação para {emoji} no Bertimbau\")\n",
        "\n",
        "      #print(f\"Mais similar a  {demojize(emoji, language='pt')} é {demojize(most_similar_emoji, language='pt')} com similaridade de {similarity_score:.4f}\")\n"
      ],
      "metadata": {
        "id": "lx1n_ajptmrM"
      },
      "execution_count": 43,
      "outputs": []
    },
    {
      "cell_type": "code",
      "source": [
        "comparar_similares(sims_berttweet, sims_bertimbau, ems)"
      ],
      "metadata": {
        "id": "MsUWsrSgOVhz",
        "colab": {
          "base_uri": "https://localhost:8080/"
        },
        "outputId": "13061895-8b68-41d8-969f-3987ba9bcd85"
      },
      "execution_count": 44,
      "outputs": [
        {
          "output_type": "stream",
          "name": "stdout",
          "text": [
            "Mais similar a  😀 em ambos é 😄 com diferença de similaridade de 0.8825 e 0.9865\n",
            "Mais similar a  😃 no BERTweetBR é 😆 com similaridade de 0.9671\n",
            "Mais similar a  😃 no BERTimbau é 😄 com similaridade de 0.9923\n",
            "Mais similar a  😄 no BERTweetBR é 😆 com similaridade de 0.9634\n",
            "Mais similar a  😄 no BERTimbau é 😃 com similaridade de 0.9923\n",
            "Mais similar a  😁 no BERTweetBR é 😙 com similaridade de 0.9757\n",
            "Mais similar a  😁 no BERTimbau é 😊 com similaridade de 0.9934\n",
            "Mais similar a  😆 em ambos é 😃 com diferença de similaridade de 0.9671 e 0.9919\n",
            "Mais similar a  😅 no BERTweetBR é 😆 com similaridade de 0.9533\n",
            "Mais similar a  😅 no BERTimbau é 😏 com similaridade de 0.9860\n",
            "Mais similar a  🤣 em ambos é 😂 com diferença de similaridade de 0.8906 e 0.9860\n",
            "Mais similar a  😂 em ambos é 🤣 com diferença de similaridade de 0.8906 e 0.9860\n",
            "Mais similar a  🙂 no BERTweetBR é 🥲 com similaridade de 0.8728\n",
            "Mais similar a  🙂 no BERTimbau é 😇 com similaridade de 0.9812\n",
            "Mais similar a  🙃 no BERTweetBR é 🥵 com similaridade de 0.9060\n",
            "Mais similar a  🙃 no BERTimbau é 🙂‍↕️ com similaridade de 0.9791\n",
            "Mais similar a  🫠 no BERTweetBR é 🤮 com similaridade de 0.8838\n",
            "Mais similar a  🫠 no BERTimbau é 🥵 com similaridade de 0.9777\n",
            "Mais similar a  😉 em ambos é 🫣 com diferença de similaridade de 0.9389 e 0.9876\n",
            "Mais similar a  😊 no BERTweetBR é 😙 com similaridade de 0.9785\n",
            "Mais similar a  😊 no BERTimbau é 😁 com similaridade de 0.9934\n",
            "Mais similar a  😇 no BERTweetBR é 😊 com similaridade de 0.9312\n",
            "Mais similar a  😇 no BERTimbau é 😍 com similaridade de 0.9875\n",
            "Mais similar a  🥰 no BERTweetBR é 😊 com similaridade de 0.9224\n",
            "Mais similar a  🥰 no BERTimbau é 😍 com similaridade de 0.9915\n",
            "Mais similar a  😍 no BERTweetBR é 😊 com similaridade de 0.9430\n",
            "Mais similar a  😍 no BERTimbau é 🥰 com similaridade de 0.9915\n",
            "Mais similar a  🤩 no BERTweetBR é 🙄 com similaridade de 0.9070\n",
            "Mais similar a  🤩 no BERTimbau é 😏 com similaridade de 0.9812\n",
            "Mais similar a  😘 no BERTweetBR é 😉 com similaridade de 0.8824\n",
            "Mais similar a  😘 no BERTimbau é 😗 com similaridade de 0.9813\n",
            "Mais similar a  😗 no BERTweetBR é 😐 com similaridade de 0.8848\n",
            "Mais similar a  😗 no BERTimbau é 😘 com similaridade de 0.9813\n",
            "Mais similar a  😚 em ambos é 😙 com diferença de similaridade de 0.9450 e 0.9874\n",
            "Mais similar a  😙 no BERTweetBR é 😊 com similaridade de 0.9785\n",
            "Mais similar a  😙 no BERTimbau é 😄 com similaridade de 0.9915\n",
            "Mais similar a  🥲 no BERTweetBR é 😇 com similaridade de 0.9249\n",
            "Mais similar a  🥲 no BERTimbau é 😍 com similaridade de 0.9901\n",
            "Mais similar a  😋 no BERTweetBR é 🫣 com similaridade de 0.8837\n",
            "Mais similar a  😋 no BERTimbau é 😅 com similaridade de 0.9756\n",
            "Mais similar a  😛 no BERTweetBR é 😘 com similaridade de 0.8561\n",
            "Mais similar a  😛 no BERTimbau é 🤭 com similaridade de 0.9776\n",
            "Mais similar a  😜 no BERTweetBR é 😝 com similaridade de 0.9592\n",
            "Mais similar a  😜 no BERTimbau é 🙂‍↕️ com similaridade de 0.9877\n",
            "Mais similar a  🤪 no BERTweetBR é 😔 com similaridade de 0.8795\n",
            "Mais similar a  🤪 no BERTimbau é 😏 com similaridade de 0.9722\n",
            "Mais similar a  😝 no BERTweetBR é 😜 com similaridade de 0.9592\n",
            "Mais similar a  😝 no BERTimbau é 🫢 com similaridade de 0.9913\n",
            "Mais similar a  🤑 no BERTweetBR é 😏 com similaridade de 0.9066\n",
            "Mais similar a  🤑 no BERTimbau é 🤒 com similaridade de 0.9656\n",
            "Mais similar a  🤗 no BERTweetBR é 😔 com similaridade de 0.8686\n",
            "Mais similar a  🤗 no BERTimbau é 😗 com similaridade de 0.9784\n",
            "Mais similar a  🤭 em ambos é 🫢 com diferença de similaridade de 0.9562 e 0.9919\n",
            "Mais similar a  🫢 em ambos é 🤭 com diferença de similaridade de 0.9562 e 0.9919\n",
            "Mais similar a  🫣 em ambos é 😉 com diferença de similaridade de 0.9389 e 0.9876\n",
            "Mais similar a  🤫 no BERTweetBR é 🤐 com similaridade de 0.9088\n",
            "Mais similar a  🤫 no BERTimbau é 😉 com similaridade de 0.9753\n",
            "Mais similar a  🤔 no BERTweetBR é 🤮 com similaridade de 0.8914\n",
            "Mais similar a  🤔 no BERTimbau é 😪 com similaridade de 0.9709\n",
            "Mais similar a  🫡 no BERTweetBR é 😪 com similaridade de 0.8706\n",
            "Mais similar a  🫡 no BERTimbau é 😋 com similaridade de 0.9745\n",
            "Mais similar a  🤐 no BERTweetBR é 😮‍💨 com similaridade de 0.9351\n",
            "Mais similar a  🤐 no BERTimbau é 😏 com similaridade de 0.9742\n",
            "Mais similar a  🤨 no BERTweetBR é 😉 com similaridade de 0.9148\n",
            "Mais similar a  🤨 no BERTimbau é 😇 com similaridade de 0.9786\n",
            "Mais similar a  😐 no BERTweetBR é 🤮 com similaridade de 0.8869\n",
            "Mais similar a  😐 no BERTimbau é 🤔 com similaridade de 0.9523\n",
            "Mais similar a  😑 no BERTweetBR é 😬 com similaridade de 0.8891\n",
            "Mais similar a  😑 no BERTimbau é 😔 com similaridade de 0.9680\n",
            "Mais similar a  😶 no BERTweetBR é 😶‍🌫️ com similaridade de 0.9056\n",
            "Mais similar a  😶 no BERTimbau é 😮‍💨 com similaridade de 0.9717\n",
            "Mais similar a  🫥 no BERTweetBR é 😄 com similaridade de 0.9156\n",
            "Mais similar a  🫥 no BERTimbau é 🤕 com similaridade de 0.9735\n",
            "Mais similar a  😶‍🌫️ no BERTweetBR é 🤐 com similaridade de 0.9140\n",
            "Mais similar a  😶‍🌫️ no BERTimbau é 😅 com similaridade de 0.9754\n",
            "Mais similar a  😏 no BERTweetBR é 😷 com similaridade de 0.9217\n",
            "Mais similar a  😏 no BERTimbau é 😄 com similaridade de 0.9873\n",
            "Mais similar a  😒 no BERTweetBR é 🙂 com similaridade de 0.8604\n",
            "Mais similar a  😒 no BERTimbau é 😔 com similaridade de 0.9802\n",
            "Mais similar a  🙄 no BERTweetBR é 😚 com similaridade de 0.9405\n",
            "Mais similar a  🙄 no BERTimbau é 😝 com similaridade de 0.9861\n",
            "Mais similar a  😬 no BERTweetBR é 🫣 com similaridade de 0.9036\n",
            "Mais similar a  😬 no BERTimbau é 🤢 com similaridade de 0.9559\n",
            "Mais similar a  😮‍💨 no BERTweetBR é 🤐 com similaridade de 0.9351\n",
            "Mais similar a  😮‍💨 no BERTimbau é 🫢 com similaridade de 0.9758\n",
            "Mais similar a  🥵 no BERTweetBR é 🤫 com similaridade de 0.9085\n",
            "Mais similar a  🥵 no BERTimbau é 🫠 com similaridade de 0.9777\n",
            "Mais similar a  🤧 em ambos é 🤮 com diferença de similaridade de 0.8935 e 0.9787\n",
            "Mais similar a  🤮 no BERTweetBR é 😌 com similaridade de 0.9044\n",
            "Mais similar a  🤮 no BERTimbau é 🤧 com similaridade de 0.9787\n",
            "Mais similar a  🤢 no BERTweetBR é 🤥 com similaridade de 0.8918\n",
            "Mais similar a  🤢 no BERTimbau é 😪 com similaridade de 0.9779\n",
            "Mais similar a  🤕 no BERTweetBR é 🙄 com similaridade de 0.9175\n",
            "Mais similar a  🤕 no BERTimbau é 🤭 com similaridade de 0.9778\n",
            "Mais similar a  🤒 no BERTweetBR é 😷 com similaridade de 0.9146\n",
            "Mais similar a  🤒 no BERTimbau é 😅 com similaridade de 0.9773\n",
            "Mais similar a  😷 no BERTweetBR é 😏 com similaridade de 0.9217\n",
            "Mais similar a  😷 no BERTimbau é 🤕 com similaridade de 0.9724\n",
            "Mais similar a  😴 no BERTweetBR é 🤮 com similaridade de 0.8874\n",
            "Mais similar a  😴 no BERTimbau é 😪 com similaridade de 0.9739\n",
            "Mais similar a  🤤 no BERTweetBR é 🫨 com similaridade de 0.8845\n",
            "Mais similar a  🤤 no BERTimbau é 😗 com similaridade de 0.9663\n",
            "Mais similar a  😪 em ambos é 🤢 com diferença de similaridade de 0.8709 e 0.9779\n",
            "Mais similar a  😔 no BERTweetBR é 🤮 com similaridade de 0.8803\n",
            "Mais similar a  😔 no BERTimbau é 😒 com similaridade de 0.9802\n",
            "Mais similar a  😌 no BERTweetBR é 🤮 com similaridade de 0.9044\n",
            "Mais similar a  😌 no BERTimbau é 😔 com similaridade de 0.9739\n",
            "Mais similar a  🙂‍↕️ em ambos é 🙂‍↔️ com diferença de similaridade de 0.9644 e 0.9975\n",
            "Mais similar a  🙂‍↔️ em ambos é 🙂‍↕️ com diferença de similaridade de 0.9644 e 0.9975\n",
            "Mais similar a  🫨 no BERTweetBR é 🤤 com similaridade de 0.8845\n",
            "Mais similar a  🫨 no BERTimbau é 🥵 com similaridade de 0.9757\n",
            "Mais similar a  🤥 no BERTweetBR é 🤢 com similaridade de 0.8918\n",
            "Mais similar a  🤥 no BERTimbau é 😏 com similaridade de 0.9762\n"
          ]
        }
      ]
    },
    {
      "cell_type": "markdown",
      "source": [
        "# Escolha um subconjunto de 3 iguais e 3 diferentes para julgar se você concorda, e com com qual modelo você mais concorda"
      ],
      "metadata": {
        "id": "njJdGl47O3tk"
      }
    },
    {
      "cell_type": "markdown",
      "source": [
        "# Extra - para quem não conseguiu fazer a primeira tarefa a tempo: imprimir representações vetoriais dos dois modelos e analisar onde os emojis se concentram em cada um (usar tSNE e adaptar código da primeira tarefa)"
      ],
      "metadata": {
        "id": "rANMlcXzwgGf"
      }
    },
    {
      "cell_type": "markdown",
      "source": [
        "# Extra: Emoji em contexto (cenas do próximo capítulo)"
      ],
      "metadata": {
        "id": "RtP04_5crMXP"
      }
    },
    {
      "cell_type": "code",
      "source": [
        "from transformers import pipeline"
      ],
      "metadata": {
        "id": "Tioa_ndgsyP7"
      },
      "execution_count": null,
      "outputs": []
    },
    {
      "cell_type": "code",
      "source": [
        " sentences = [\"😞 Hoje estou muito <mask> com meus amigos.\", \"😄 Hoje estou muito <mask> com meus amigos.\"]\n"
      ],
      "metadata": {
        "id": "2OklGq1prPPn"
      },
      "execution_count": null,
      "outputs": []
    },
    {
      "cell_type": "code",
      "source": [
        "model_name_tweets = 'melll-uff/bertweetbr'"
      ],
      "metadata": {
        "id": "5A4ea-BKrxL_"
      },
      "execution_count": null,
      "outputs": []
    },
    {
      "cell_type": "code",
      "source": [
        "tokenizer_tweets.demojizer = lambda x: demojize(x, language='pt')\n",
        "sentences = [tokenizer_tweets.normalizeTweet(s) for s in sentences]\n",
        "sentences\n"
      ],
      "metadata": {
        "id": "Sa-IZsdCydH5"
      },
      "execution_count": null,
      "outputs": []
    },
    {
      "cell_type": "code",
      "source": [
        "filler_mask = pipeline(\"fill-mask\", model=model_name_tweets, tokenizer=tokenizer_tweets)\n",
        "filler_mask(sentences[0], top_k=5)"
      ],
      "metadata": {
        "id": "TueMIlmxrcGh"
      },
      "execution_count": null,
      "outputs": []
    },
    {
      "cell_type": "code",
      "source": [
        "filler_mask = pipeline(\"fill-mask\", model=model_name_tweets, tokenizer=tokenizer_tweets)\n",
        "filler_mask(sentences[1], top_k=5)"
      ],
      "metadata": {
        "id": "m9X8hus5yKGd"
      },
      "execution_count": null,
      "outputs": []
    }
  ]
}